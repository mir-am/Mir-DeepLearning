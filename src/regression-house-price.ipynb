{
 "cells": [
  {
   "cell_type": "markdown",
   "metadata": {},
   "source": [
    "## Pridicting house prices: a regression example\n",
    "The first step is to load Boston housing price dataset."
   ]
  },
  {
   "cell_type": "code",
   "execution_count": 1,
   "metadata": {
    "scrolled": true
   },
   "outputs": [
    {
     "name": "stderr",
     "output_type": "stream",
     "text": [
      "Using TensorFlow backend.\n"
     ]
    },
    {
     "data": {
      "text/plain": [
       "array([15.2, 42.3, 50. , 21.1, 17.7, 18.5, 11.3, 15.6, 15.6, 14.4, 12.1,\n",
       "       17.9, 23.1, 19.9, 15.7,  8.8, 50. , 22.5, 24.1, 27.5, 10.9, 30.8,\n",
       "       32.9, 24. , 18.5, 13.3, 22.9, 34.7, 16.6, 17.5, 22.3, 16.1, 14.9,\n",
       "       23.1, 34.9, 25. , 13.9, 13.1, 20.4, 20. , 15.2, 24.7, 22.2, 16.7,\n",
       "       12.7, 15.6, 18.4, 21. , 30.1, 15.1, 18.7,  9.6, 31.5, 24.8, 19.1,\n",
       "       22. , 14.5, 11. , 32. , 29.4, 20.3, 24.4, 14.6, 19.5, 14.1, 14.3,\n",
       "       15.6, 10.5,  6.3, 19.3, 19.3, 13.4, 36.4, 17.8, 13.5, 16.5,  8.3,\n",
       "       14.3, 16. , 13.4, 28.6, 43.5, 20.2, 22. , 23. , 20.7, 12.5, 48.5,\n",
       "       14.6, 13.4, 23.7, 50. , 21.7, 39.8, 38.7, 22.2, 34.9, 22.5, 31.1,\n",
       "       28.7, 46. , 41.7, 21. , 26.6, 15. , 24.4, 13.3, 21.2, 11.7, 21.7,\n",
       "       19.4, 50. , 22.8, 19.7, 24.7, 36.2, 14.2, 18.9, 18.3, 20.6, 24.6,\n",
       "       18.2,  8.7, 44. , 10.4, 13.2, 21.2, 37. , 30.7, 22.9, 20. , 19.3,\n",
       "       31.7, 32. , 23.1, 18.8, 10.9, 50. , 19.6,  5. , 14.4, 19.8, 13.8,\n",
       "       19.6, 23.9, 24.5, 25. , 19.9, 17.2, 24.6, 13.5, 26.6, 21.4, 11.9,\n",
       "       22.6, 19.6,  8.5, 23.7, 23.1, 22.4, 20.5, 23.6, 18.4, 35.2, 23.1,\n",
       "       27.9, 20.6, 23.7, 28. , 13.6, 27.1, 23.6, 20.6, 18.2, 21.7, 17.1,\n",
       "        8.4, 25.3, 13.8, 22.2, 18.4, 20.7, 31.6, 30.5, 20.3,  8.8, 19.2,\n",
       "       19.4, 23.1, 23. , 14.8, 48.8, 22.6, 33.4, 21.1, 13.6, 32.2, 13.1,\n",
       "       23.4, 18.9, 23.9, 11.8, 23.3, 22.8, 19.6, 16.7, 13.4, 22.2, 20.4,\n",
       "       21.8, 26.4, 14.9, 24.1, 23.8, 12.3, 29.1, 21. , 19.5, 23.3, 23.8,\n",
       "       17.8, 11.5, 21.7, 19.9, 25. , 33.4, 28.5, 21.4, 24.3, 27.5, 33.1,\n",
       "       16.2, 23.3, 48.3, 22.9, 22.8, 13.1, 12.7, 22.6, 15. , 15.3, 10.5,\n",
       "       24. , 18.5, 21.7, 19.5, 33.2, 23.2,  5. , 19.1, 12.7, 22.3, 10.2,\n",
       "       13.9, 16.3, 17. , 20.1, 29.9, 17.2, 37.3, 45.4, 17.8, 23.2, 29. ,\n",
       "       22. , 18. , 17.4, 34.6, 20.1, 25. , 15.6, 24.8, 28.2, 21.2, 21.4,\n",
       "       23.8, 31. , 26.2, 17.4, 37.9, 17.5, 20. ,  8.3, 23.9,  8.4, 13.8,\n",
       "        7.2, 11.7, 17.1, 21.6, 50. , 16.1, 20.4, 20.6, 21.4, 20.6, 36.5,\n",
       "        8.5, 24.8, 10.8, 21.9, 17.3, 18.9, 36.2, 14.9, 18.2, 33.3, 21.8,\n",
       "       19.7, 31.6, 24.8, 19.4, 22.8,  7.5, 44.8, 16.8, 18.7, 50. , 50. ,\n",
       "       19.5, 20.1, 50. , 17.2, 20.8, 19.3, 41.3, 20.4, 20.5, 13.8, 16.5,\n",
       "       23.9, 20.6, 31.5, 23.3, 16.8, 14. , 33.8, 36.1, 12.8, 18.3, 18.7,\n",
       "       19.1, 29. , 30.1, 50. , 50. , 22. , 11.9, 37.6, 50. , 22.7, 20.8,\n",
       "       23.5, 27.9, 50. , 19.3, 23.9, 22.6, 15.2, 21.7, 19.2, 43.8, 20.3,\n",
       "       33.2, 19.9, 22.5, 32.7, 22. , 17.1, 19. , 15. , 16.1, 25.1, 23.7,\n",
       "       28.7, 37.2, 22.6, 16.4, 25. , 29.8, 22.1, 17.4, 18.1, 30.3, 17.5,\n",
       "       24.7, 12.6, 26.5, 28.7, 13.3, 10.4, 24.4, 23. , 20. , 17.8,  7. ,\n",
       "       11.8, 24.4, 13.8, 19.4, 25.2, 19.4, 19.4, 29.1])"
      ]
     },
     "execution_count": 1,
     "metadata": {},
     "output_type": "execute_result"
    }
   ],
   "source": [
    "from keras.datasets import boston_housing\n",
    "\n",
    "(train_data, train_targets), (test_data, test_targets) = boston_housing.load_data()\n",
    "\n",
    "# Targets are continuous values\n",
    "train_targets"
   ]
  },
  {
   "cell_type": "markdown",
   "metadata": {},
   "source": [
    "It'a good practice to do feature-wise normalization"
   ]
  },
  {
   "cell_type": "code",
   "execution_count": 2,
   "metadata": {},
   "outputs": [],
   "source": [
    "mean = train_data.mean(axis=0)\n",
    "std = train_data.std(axis=0)\n",
    "\n",
    "# Normalize train data\n",
    "train_data -= mean\n",
    "train_data /=std\n",
    "\n",
    "# Note that test data should be normalized using train data\n",
    "test_data -= mean\n",
    "test_data /= std"
   ]
  },
  {
   "cell_type": "markdown",
   "metadata": {},
   "source": [
    "Now, an small network with two hidden layers is created. To mitigate overfitting problem, the network should be small."
   ]
  },
  {
   "cell_type": "code",
   "execution_count": 3,
   "metadata": {},
   "outputs": [],
   "source": [
    "from keras import models\n",
    "from keras import layers\n",
    "\n",
    "def build_model():\n",
    "    \n",
    "    model = models.Sequential()\n",
    "    model.add(layers.Dense(64, activation='relu', input_shape=(train_data.shape[1],)))\n",
    "    model.add(layers.Dense(64, activation='relu'))\n",
    "    # No acitvation function for output layer because we try to predict continuous value\n",
    "    model.add(layers.Dense(1))\n",
    "    # Mean squared error for regression problems\n",
    "    model.compile(optimizer='rmsprop', loss='mse', metrics=['mae'])\n",
    "    \n",
    "    return model"
   ]
  },
  {
   "cell_type": "markdown",
   "metadata": {},
   "source": [
    "To validate score for the model. K-fold cross-validation can used. </br>\n",
    "Also validation logs will be saved at each fold."
   ]
  },
  {
   "cell_type": "code",
   "execution_count": 4,
   "metadata": {},
   "outputs": [
    {
     "name": "stdout",
     "output_type": "stream",
     "text": [
      "processing fold# 0\n",
      "processing fold# 1\n",
      "processing fold# 2\n",
      "processing fold# 3\n"
     ]
    }
   ],
   "source": [
    "import numpy as np\n",
    "\n",
    "k = 4\n",
    "num_val_samples = len(train_data) // 4\n",
    "num_epochs = 100\n",
    "all_mae_histories = []\n",
    "\n",
    "for i in range(k):\n",
    "    \n",
    "    print('processing fold#', i)\n",
    "    \n",
    "    # Validation set\n",
    "    val_data = train_data[i * num_val_samples: (i + 1) * num_val_samples]\n",
    "    val_targets = train_targets[i * num_val_samples: (i + 1) * num_val_samples]\n",
    "    \n",
    "    # Training set\n",
    "    partial_train_data = np.concatenate([train_data[:i * num_val_samples],\n",
    "                                        train_data[(i + 1) * num_val_samples:]], axis=0)\n",
    "    \n",
    "    partial_train_targets = np.concatenate([train_targets[:i * num_val_samples],\n",
    "                                        train_targets[(i + 1) * num_val_samples:]], axis=0)\n",
    "    \n",
    "    model = build_model()\n",
    "    history = model.fit(partial_train_data, partial_train_targets, validation_data=(val_data, val_targets),\n",
    "                        epochs=num_epochs, batch_size=1, verbose=0)\n",
    "    \n",
    "    mae_history = history.history['val_mean_absolute_error']\n",
    "    all_mae_histories.append(mae_history)\n",
    "    "
   ]
  },
  {
   "cell_type": "markdown",
   "metadata": {},
   "source": [
    "Average of the per-epoch MAE scores for all folds:"
   ]
  },
  {
   "cell_type": "code",
   "execution_count": 5,
   "metadata": {
    "scrolled": true
   },
   "outputs": [],
   "source": [
    "average_mae_history = [np.mean([x[i] for x in all_mae_histories]) for i in range(num_epochs)]"
   ]
  },
  {
   "cell_type": "markdown",
   "metadata": {},
   "source": [
    "Plotting validation scores"
   ]
  },
  {
   "cell_type": "code",
   "execution_count": 6,
   "metadata": {},
   "outputs": [
    {
     "data": {
      "text/plain": [
       "<Figure size 640x480 with 1 Axes>"
      ]
     },
     "metadata": {},
     "output_type": "display_data"
    }
   ],
   "source": [
    "import matplotlib.pyplot as plt\n",
    "\n",
    "plt.plot(range(1, len(average_mae_history) + 1), average_mae_history)\n",
    "plt.xlabel('Epochs')\n",
    "plt.ylabel('Validtion MAE')\n",
    "plt.show()"
   ]
  },
  {
   "cell_type": "markdown",
   "metadata": {},
   "source": [
    "Fixing the scaling issues to obtain smooth curve"
   ]
  },
  {
   "cell_type": "code",
   "execution_count": 7,
   "metadata": {},
   "outputs": [
    {
     "data": {
      "image/png": "[encoded data removed]",
      "text/plain": [
       "<Figure size 432x288 with 1 Axes>"
      ]
     },
     "metadata": {},
     "output_type": "display_data"
    }
   ],
   "source": [
    "def smooth_curve(points, factor=0.9):\n",
    "    \n",
    "    smoothed_points = []\n",
    "    \n",
    "    for point in points:\n",
    "        \n",
    "        if smoothed_points:\n",
    "        \n",
    "            previous = smoothed_points[-1]\n",
    "            smoothed_points.append(previous * factor + point * (1 - factor))\n",
    "            \n",
    "        else:\n",
    "            \n",
    "            smoothed_points.append(point)\n",
    "            \n",
    "    return smoothed_points\n",
    "\n",
    "smooth_mae_history = smooth_curve(average_mae_history[10:])\n",
    "\n",
    "plt.plot(range(1, len(smooth_mae_history) + 1), smooth_mae_history)\n",
    "plt.xlabel('Epochs')\n",
    "plt.ylabel('Validation MAE')\n",
    "plt.show()"
   ]
  },
  {
   "cell_type": "markdown",
   "metadata": {},
   "source": [
    "Train final production model on all of the training samples"
   ]
  },
  {
   "cell_type": "code",
   "execution_count": 10,
   "metadata": {},
   "outputs": [
    {
     "name": "stdout",
     "output_type": "stream",
     "text": [
      "Epoch 1/80\n",
      "404/404 [==============================] - 0s 522us/step - loss: 469.0388 - mean_absolute_error: 19.7293\n",
      "Epoch 2/80\n",
      "404/404 [==============================] - 0s 157us/step - loss: 277.6530 - mean_absolute_error: 14.4980\n",
      "Epoch 3/80\n",
      "404/404 [==============================] - 0s 147us/step - loss: 125.0134 - mean_absolute_error: 8.8815\n",
      "Epoch 4/80\n",
      "404/404 [==============================] - 0s 154us/step - loss: 62.0079 - mean_absolute_error: 6.0249\n",
      "Epoch 5/80\n",
      "404/404 [==============================] - 0s 156us/step - loss: 37.4707 - mean_absolute_error: 4.6023\n",
      "Epoch 6/80\n",
      "404/404 [==============================] - 0s 163us/step - loss: 26.3360 - mean_absolute_error: 3.7312\n",
      "Epoch 7/80\n",
      "404/404 [==============================] - 0s 161us/step - loss: 20.7676 - mean_absolute_error: 3.1786\n",
      "Epoch 8/80\n",
      "404/404 [==============================] - 0s 159us/step - loss: 18.1381 - mean_absolute_error: 2.9655\n",
      "Epoch 9/80\n",
      "404/404 [==============================] - 0s 158us/step - loss: 16.7831 - mean_absolute_error: 2.8239\n",
      "Epoch 10/80\n",
      "404/404 [==============================] - 0s 150us/step - loss: 15.4176 - mean_absolute_error: 2.7225\n",
      "Epoch 11/80\n",
      "404/404 [==============================] - 0s 160us/step - loss: 14.3125 - mean_absolute_error: 2.5983\n",
      "Epoch 12/80\n",
      "404/404 [==============================] - 0s 157us/step - loss: 13.5284 - mean_absolute_error: 2.4986\n",
      "Epoch 13/80\n",
      "404/404 [==============================] - 0s 149us/step - loss: 12.5395 - mean_absolute_error: 2.4897\n",
      "Epoch 14/80\n",
      "404/404 [==============================] - 0s 158us/step - loss: 12.3842 - mean_absolute_error: 2.4647\n",
      "Epoch 15/80\n",
      "404/404 [==============================] - 0s 156us/step - loss: 11.7846 - mean_absolute_error: 2.4142\n",
      "Epoch 16/80\n",
      "404/404 [==============================] - 0s 153us/step - loss: 11.3418 - mean_absolute_error: 2.3500\n",
      "Epoch 17/80\n",
      "404/404 [==============================] - 0s 158us/step - loss: 11.1616 - mean_absolute_error: 2.3373\n",
      "Epoch 18/80\n",
      "404/404 [==============================] - 0s 160us/step - loss: 10.5891 - mean_absolute_error: 2.3013\n",
      "Epoch 19/80\n",
      "404/404 [==============================] - 0s 179us/step - loss: 10.3859 - mean_absolute_error: 2.2973\n",
      "Epoch 20/80\n",
      "404/404 [==============================] - 0s 179us/step - loss: 10.5130 - mean_absolute_error: 2.2516\n",
      "Epoch 21/80\n",
      "404/404 [==============================] - 0s 179us/step - loss: 10.2461 - mean_absolute_error: 2.2506\n",
      "Epoch 22/80\n",
      "404/404 [==============================] - 0s 150us/step - loss: 9.8749 - mean_absolute_error: 2.2139\n",
      "Epoch 23/80\n",
      "404/404 [==============================] - 0s 161us/step - loss: 9.8014 - mean_absolute_error: 2.1963\n",
      "Epoch 24/80\n",
      "404/404 [==============================] - 0s 160us/step - loss: 9.6132 - mean_absolute_error: 2.2042\n",
      "Epoch 25/80\n",
      "404/404 [==============================] - 0s 160us/step - loss: 9.5786 - mean_absolute_error: 2.1512\n",
      "Epoch 26/80\n",
      "404/404 [==============================] - 0s 151us/step - loss: 9.4485 - mean_absolute_error: 2.1463\n",
      "Epoch 27/80\n",
      "404/404 [==============================] - 0s 157us/step - loss: 9.2382 - mean_absolute_error: 2.1284\n",
      "Epoch 28/80\n",
      "404/404 [==============================] - 0s 160us/step - loss: 9.2650 - mean_absolute_error: 2.1212\n",
      "Epoch 29/80\n",
      "404/404 [==============================] - 0s 154us/step - loss: 9.1575 - mean_absolute_error: 2.1119\n",
      "Epoch 30/80\n",
      "404/404 [==============================] - 0s 160us/step - loss: 9.0779 - mean_absolute_error: 2.1017\n",
      "Epoch 31/80\n",
      "404/404 [==============================] - 0s 158us/step - loss: 8.7301 - mean_absolute_error: 2.0906\n",
      "Epoch 32/80\n",
      "404/404 [==============================] - 0s 163us/step - loss: 8.9855 - mean_absolute_error: 2.0855\n",
      "Epoch 33/80\n",
      "404/404 [==============================] - 0s 161us/step - loss: 8.7375 - mean_absolute_error: 2.0765\n",
      "Epoch 34/80\n",
      "404/404 [==============================] - 0s 165us/step - loss: 8.6327 - mean_absolute_error: 2.0582\n",
      "Epoch 35/80\n",
      "404/404 [==============================] - 0s 162us/step - loss: 8.6024 - mean_absolute_error: 2.0594\n",
      "Epoch 36/80\n",
      "404/404 [==============================] - 0s 172us/step - loss: 8.2385 - mean_absolute_error: 2.0165\n",
      "Epoch 37/80\n",
      "404/404 [==============================] - 0s 163us/step - loss: 8.4697 - mean_absolute_error: 2.0601\n",
      "Epoch 38/80\n",
      "404/404 [==============================] - 0s 161us/step - loss: 8.3184 - mean_absolute_error: 2.0082\n",
      "Epoch 39/80\n",
      "404/404 [==============================] - 0s 165us/step - loss: 8.2905 - mean_absolute_error: 2.0313\n",
      "Epoch 40/80\n",
      "404/404 [==============================] - 0s 159us/step - loss: 8.1490 - mean_absolute_error: 2.0120\n",
      "Epoch 41/80\n",
      "404/404 [==============================] - 0s 166us/step - loss: 8.0884 - mean_absolute_error: 2.0063\n",
      "Epoch 42/80\n",
      "404/404 [==============================] - 0s 180us/step - loss: 8.0236 - mean_absolute_error: 1.9917\n",
      "Epoch 43/80\n",
      "404/404 [==============================] - 0s 170us/step - loss: 7.9894 - mean_absolute_error: 1.9773\n",
      "Epoch 44/80\n",
      "404/404 [==============================] - 0s 161us/step - loss: 7.9959 - mean_absolute_error: 1.9710\n",
      "Epoch 45/80\n",
      "404/404 [==============================] - 0s 173us/step - loss: 7.8284 - mean_absolute_error: 1.9593\n",
      "Epoch 46/80\n",
      "404/404 [==============================] - 0s 168us/step - loss: 7.7571 - mean_absolute_error: 1.9513\n",
      "Epoch 47/80\n",
      "404/404 [==============================] - 0s 172us/step - loss: 7.6176 - mean_absolute_error: 1.9605\n",
      "Epoch 48/80\n",
      "404/404 [==============================] - 0s 165us/step - loss: 7.6247 - mean_absolute_error: 1.9355\n",
      "Epoch 49/80\n",
      "404/404 [==============================] - 0s 153us/step - loss: 7.4864 - mean_absolute_error: 1.9581\n",
      "Epoch 50/80\n",
      "404/404 [==============================] - 0s 149us/step - loss: 7.5620 - mean_absolute_error: 1.9383\n",
      "Epoch 51/80\n",
      "404/404 [==============================] - 0s 140us/step - loss: 7.5608 - mean_absolute_error: 1.9158\n",
      "Epoch 52/80\n",
      "404/404 [==============================] - 0s 139us/step - loss: 7.5559 - mean_absolute_error: 1.9318\n",
      "Epoch 53/80\n",
      "404/404 [==============================] - 0s 143us/step - loss: 7.3635 - mean_absolute_error: 1.8937\n",
      "Epoch 54/80\n",
      "404/404 [==============================] - 0s 131us/step - loss: 7.5567 - mean_absolute_error: 1.9191\n",
      "Epoch 55/80\n",
      "404/404 [==============================] - 0s 145us/step - loss: 7.3551 - mean_absolute_error: 1.9073\n",
      "Epoch 56/80\n",
      "404/404 [==============================] - 0s 146us/step - loss: 7.1713 - mean_absolute_error: 1.8540\n",
      "Epoch 57/80\n",
      "404/404 [==============================] - 0s 144us/step - loss: 7.1852 - mean_absolute_error: 1.8856\n",
      "Epoch 58/80\n",
      "404/404 [==============================] - 0s 145us/step - loss: 7.0448 - mean_absolute_error: 1.8476\n",
      "Epoch 59/80\n",
      "404/404 [==============================] - 0s 150us/step - loss: 7.0780 - mean_absolute_error: 1.9192\n",
      "Epoch 60/80\n",
      "404/404 [==============================] - 0s 152us/step - loss: 7.0144 - mean_absolute_error: 1.8563\n",
      "Epoch 61/80\n",
      "404/404 [==============================] - 0s 145us/step - loss: 6.8213 - mean_absolute_error: 1.8352\n",
      "Epoch 62/80\n",
      "404/404 [==============================] - 0s 150us/step - loss: 7.0678 - mean_absolute_error: 1.8671\n",
      "Epoch 63/80\n",
      "404/404 [==============================] - 0s 152us/step - loss: 6.8746 - mean_absolute_error: 1.8231\n",
      "Epoch 64/80\n",
      "404/404 [==============================] - 0s 153us/step - loss: 6.8878 - mean_absolute_error: 1.8461\n",
      "Epoch 65/80\n",
      "404/404 [==============================] - 0s 146us/step - loss: 6.7610 - mean_absolute_error: 1.8300\n",
      "Epoch 66/80\n",
      "404/404 [==============================] - 0s 145us/step - loss: 6.6106 - mean_absolute_error: 1.7938\n",
      "Epoch 67/80\n",
      "404/404 [==============================] - 0s 151us/step - loss: 6.6269 - mean_absolute_error: 1.8015\n",
      "Epoch 68/80\n",
      "404/404 [==============================] - 0s 146us/step - loss: 6.4624 - mean_absolute_error: 1.7717\n",
      "Epoch 69/80\n",
      "404/404 [==============================] - 0s 148us/step - loss: 6.8019 - mean_absolute_error: 1.8044\n",
      "Epoch 70/80\n",
      "404/404 [==============================] - 0s 151us/step - loss: 6.3449 - mean_absolute_error: 1.7566\n",
      "Epoch 71/80\n",
      "404/404 [==============================] - 0s 153us/step - loss: 6.5316 - mean_absolute_error: 1.8000\n",
      "Epoch 72/80\n"
     ]
    },
    {
     "name": "stdout",
     "output_type": "stream",
     "text": [
      "404/404 [==============================] - 0s 149us/step - loss: 6.3715 - mean_absolute_error: 1.7726\n",
      "Epoch 73/80\n",
      "404/404 [==============================] - 0s 142us/step - loss: 6.1660 - mean_absolute_error: 1.7458\n",
      "Epoch 74/80\n",
      "404/404 [==============================] - 0s 140us/step - loss: 6.3767 - mean_absolute_error: 1.7679\n",
      "Epoch 75/80\n",
      "404/404 [==============================] - 0s 149us/step - loss: 5.9722 - mean_absolute_error: 1.7035\n",
      "Epoch 76/80\n",
      "404/404 [==============================] - 0s 143us/step - loss: 6.2031 - mean_absolute_error: 1.7507\n",
      "Epoch 77/80\n",
      "404/404 [==============================] - 0s 143us/step - loss: 6.2138 - mean_absolute_error: 1.7356\n",
      "Epoch 78/80\n",
      "404/404 [==============================] - 0s 132us/step - loss: 6.0541 - mean_absolute_error: 1.7343\n",
      "Epoch 79/80\n",
      "404/404 [==============================] - 0s 152us/step - loss: 6.1245 - mean_absolute_error: 1.7662\n",
      "Epoch 80/80\n",
      "404/404 [==============================] - 0s 152us/step - loss: 6.0289 - mean_absolute_error: 1.7003\n",
      "102/102 [==============================] - 0s 415us/step\n"
     ]
    },
    {
     "data": {
      "text/plain": [
       "3.024362227495979"
      ]
     },
     "execution_count": 10,
     "metadata": {},
     "output_type": "execute_result"
    }
   ],
   "source": [
    "# A fresh model\n",
    "model = build_model()\n",
    "model.fit(train_data, train_targets, epochs=80, batch_size=16)\n",
    "test_mse_score, test_mae_score = model.evaluate(test_data, test_targets)\n",
    "\n",
    "test_mae_score"
   ]
  },
  {
   "cell_type": "code",
   "execution_count": null,
   "metadata": {},
   "outputs": [],
   "source": []
  }
 ],
 "metadata": {
  "kernelspec": {
   "display_name": "Python 3",
   "language": "python",
   "name": "python3"
  },
  "language_info": {
   "codemirror_mode": {
    "name": "ipython",
    "version": 3
   },
   "file_extension": ".py",
   "mimetype": "text/x-python",
   "name": "python",
   "nbconvert_exporter": "python",
   "pygments_lexer": "ipython3",
   "version": "3.6.5"
  }
 },
 "nbformat": 4,
 "nbformat_minor": 2
}
