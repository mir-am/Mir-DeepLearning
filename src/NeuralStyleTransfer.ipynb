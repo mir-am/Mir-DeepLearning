{
 "cells": [
  {
   "cell_type": "markdown",
   "metadata": {},
   "source": [
    "## Defining intial variables"
   ]
  },
  {
   "cell_type": "code",
   "execution_count": 1,
   "metadata": {},
   "outputs": [
    {
     "name": "stderr",
     "output_type": "stream",
     "text": [
      "Using TensorFlow backend.\n"
     ]
    }
   ],
   "source": [
    "from keras.preprocessing.image import load_img, img_to_array\n",
    "\n",
    "target_image_path = 'img/target-toronto.jpg'\n",
    "style_reference_image_path = 'img/style-toronto.jpg'\n",
    "\n",
    "width, height = load_img(target_image_path).size\n",
    "img_height = 400\n",
    "img_width = int(width * img_height / height)\n"
   ]
  },
  {
   "cell_type": "markdown",
   "metadata": {},
   "source": [
    "## Auxiliray functions"
   ]
  },
  {
   "cell_type": "code",
   "execution_count": 2,
   "metadata": {},
   "outputs": [],
   "source": [
    "import numpy as np\n",
    "from keras.applications import vgg19\n",
    "\n",
    "def preprocess_image(image_path):\n",
    "    \n",
    "    img = load_img(image_path, target_size=(img_height, img_width))\n",
    "    img = img_to_array(img)\n",
    "    img = np.expand_dims(img, axis=0)\n",
    "    img = vgg19.preprocess_input(img)\n",
    "    \n",
    "    return img\n",
    "\n",
    "def deprocess_image(x):\n",
    "    \n",
    "    x[:, :, 0] += 103.939\n",
    "    x[:, :, 1] += 116.779\n",
    "    x[:, :, 2] += 123.68\n",
    "    \n",
    "    x = x[:, :, ::-1]\n",
    "    x = np.clip(x, 0, 255).astype('uint8')\n",
    "    \n",
    "    return x\n",
    "    "
   ]
  },
  {
   "cell_type": "markdown",
   "metadata": {},
   "source": [
    "## Loading the pre-trained VGG19 network and applying to three images "
   ]
  },
  {
   "cell_type": "code",
   "execution_count": 3,
   "metadata": {},
   "outputs": [
    {
     "name": "stdout",
     "output_type": "stream",
     "text": [
      "Downloading data from https://github.com/fchollet/deep-learning-models/releases/download/v0.1/vgg19_weights_tf_dim_ordering_tf_kernels_notop.h5\n",
      "80142336/80134624 [==============================] - 240s 3us/step\n",
      "Model loaded...\n"
     ]
    }
   ],
   "source": [
    "from keras import backend as K\n",
    "\n",
    "target_image = K.constant(preprocess_image(target_image_path))\n",
    "style_reference_image = K.constant(preprocess_image(style_reference_image_path))\n",
    "combintation_image = K.placeholder((1, img_height, img_width, 3))\n",
    "\n",
    "input_tensor = K.concatenate([target_image, style_reference_image, combintation_image], axis=0)\n",
    "\n",
    "model = vgg19.VGG19(input_tensor=input_tensor, weights='imagenet', include_top=False)\n",
    "\n",
    "print('Model loaded...')\n"
   ]
  },
  {
   "cell_type": "markdown",
   "metadata": {},
   "source": [
    "## Content loss"
   ]
  },
  {
   "cell_type": "code",
   "execution_count": 5,
   "metadata": {},
   "outputs": [],
   "source": [
    "def content_loss(base, combination):\n",
    "\n",
    "   return K.sum(K.square(combination - base))"
   ]
  },
  {
   "cell_type": "markdown",
   "metadata": {},
   "source": [
    "## Style loss"
   ]
  },
  {
   "cell_type": "code",
   "execution_count": 13,
   "metadata": {},
   "outputs": [],
   "source": [
    "def gram_matrix(x):\n",
    "    \n",
    "    features = K.batch_flatten(K.permute_dimensions(x, (2, 0, 1)))\n",
    "    gram = K.dot(features, K.transpose(features))\n",
    "    return gram\n",
    "\n",
    "def style_loss(style, combination):\n",
    "    \n",
    "    S = gram_matrix(style)\n",
    "    C = gram_matrix(combination)\n",
    "    channels = 3\n",
    "    size = img_height * img_width\n",
    "    return K.sum(K.square(S - C) / (4. * (channels ** 2) * (size ** 2)))"
   ]
  },
  {
   "cell_type": "markdown",
   "metadata": {},
   "source": [
    "## Total variation loss"
   ]
  },
  {
   "cell_type": "code",
   "execution_count": 6,
   "metadata": {},
   "outputs": [],
   "source": [
    "def total_variation_loss(x):\n",
    "    \n",
    "    a = K.square(x[:, :img_height - 1, :img_width - 1, :] - \n",
    "    x[:, 1:, :img_width - 1, :])\n",
    "    \n",
    "    b = K.square(x[:, :img_height - 1, :img_width - 1, :] -\n",
    "    x[:, :img_height - 1, 1:, :])\n",
    "    \n",
    "    return K.sum(K.pow(a + b, 1.25))"
   ]
  },
  {
   "cell_type": "markdown",
   "metadata": {},
   "source": [
    "## Defining the final loss that you'll minimize"
   ]
  },
  {
   "cell_type": "code",
   "execution_count": 15,
   "metadata": {},
   "outputs": [
    {
     "data": {
      "text/plain": [
       "<tf.Tensor 'add_18:0' shape=() dtype=float32>"
      ]
     },
     "execution_count": 15,
     "metadata": {},
     "output_type": "execute_result"
    }
   ],
   "source": [
    "outputs_dict = dict([(layer.name, layer.output) for layer in model.layers])\n",
    "content_layer = 'block5_conv2' # Content loss\n",
    "# Layers used for style loss\n",
    "style_layers = ['block1_conv1',\n",
    "               'block2_conv1',\n",
    "               'block3_conv1',\n",
    "               'block4_conv1',\n",
    "                'block5_conv1']\n",
    "\n",
    "total_variation_weight = 1e-4\n",
    "style_weight = 1.\n",
    "content_weight = 0.025\n",
    "\n",
    "loss = K.variable(0.)\n",
    "layer_features = outputs_dict[content_layer]\n",
    "target_image_features = layer_features[0, :, :, :]\n",
    "combination_features = layer_features[2, :, :, :]\n",
    "loss += content_weight * content_loss(target_image_features, combination_features)\n",
    "\n",
    "# Adds style loss component loss for each target layer\n",
    "for layer_name in style_layers:\n",
    "    layer_features = outputs_dict[layer_name]\n",
    "    style_reference_features = layer_features[1, :, :, :]\n",
    "    combination_features = layer_features[2, :, :, :]\n",
    "    sl = style_loss(style_reference_features, combination_features)\n",
    "    loss += (style_weight / len(style_layers)) * sl\n",
    "    \n",
    "loss += total_variation_weight * total_variation_loss(combintation_image)\n",
    "loss"
   ]
  },
  {
   "cell_type": "markdown",
   "metadata": {},
   "source": [
    "## Setting up the gradient-descent process"
   ]
  },
  {
   "cell_type": "code",
   "execution_count": 17,
   "metadata": {},
   "outputs": [],
   "source": [
    "grads = K.gradients(loss, combintation_image)[0]\n",
    "\n",
    "fetch_loss_and_grads = K.function([combintation_image], [loss, grads])\n",
    "\n",
    "class Evaluator(object):\n",
    "    \n",
    "    def __init__(self):\n",
    "        \n",
    "        self.loss_value = None\n",
    "        self.grads_value = None\n",
    "        \n",
    "    def loss(self, x):\n",
    "        \n",
    "        assert self.loss_value is None\n",
    "        x = x.reshape((1, img_height, img_width, 3))\n",
    "        outs = fetch_loss_and_grads([x])\n",
    "        loss_value = outs[0]\n",
    "        grad_values = outs[1].flatten().astype('float64')\n",
    "        self.loss_value = loss_value\n",
    "        self.grad_values = grad_values\n",
    "        \n",
    "        return self.loss_value\n",
    "    \n",
    "    def grads(self, x):\n",
    "        \n",
    "        assert self.loss_value is not None\n",
    "        grad_values = np.copy(self.grad_values)\n",
    "        self.loss_value = None\n",
    "        self.grad_values = None\n",
    "        \n",
    "        return grad_values\n",
    "    \n",
    "evaluator = Evaluator()"
   ]
  },
  {
   "cell_type": "markdown",
   "metadata": {},
   "source": [
    "## Style-transfer loop"
   ]
  },
  {
   "cell_type": "code",
   "execution_count": 18,
   "metadata": {},
   "outputs": [
    {
     "name": "stdout",
     "output_type": "stream",
     "text": [
      "Start of iteation 0\n",
      "Current loss value: 4329268000.0\n",
      "Image saved as my_result_at_iteration_0.png\n",
      "Iteration 0 completed in 8s\n",
      "Start of iteation 1\n"
     ]
    },
    {
     "name": "stderr",
     "output_type": "stream",
     "text": [
      "/usr/local/lib/python3.6/dist-packages/ipykernel_launcher.py:23: DeprecationWarning: `imsave` is deprecated!\n",
      "`imsave` is deprecated in SciPy 1.0.0, and will be removed in 1.2.0.\n",
      "Use ``imageio.imwrite`` instead.\n"
     ]
    },
    {
     "name": "stdout",
     "output_type": "stream",
     "text": [
      "Current loss value: 1657783800.0\n",
      "Image saved as my_result_at_iteration_1.png\n",
      "Iteration 1 completed in 5s\n",
      "Start of iteation 2\n",
      "Current loss value: 996474100.0\n",
      "Image saved as my_result_at_iteration_2.png\n",
      "Iteration 2 completed in 5s\n",
      "Start of iteation 3\n",
      "Current loss value: 720657000.0\n",
      "Image saved as my_result_at_iteration_3.png\n",
      "Iteration 3 completed in 5s\n",
      "Start of iteation 4\n",
      "Current loss value: 578764100.0\n",
      "Image saved as my_result_at_iteration_4.png\n",
      "Iteration 4 completed in 5s\n",
      "Start of iteation 5\n",
      "Current loss value: 498145700.0\n",
      "Image saved as my_result_at_iteration_5.png\n",
      "Iteration 5 completed in 5s\n",
      "Start of iteation 6\n",
      "Current loss value: 441743500.0\n",
      "Image saved as my_result_at_iteration_6.png\n",
      "Iteration 6 completed in 5s\n",
      "Start of iteation 7\n",
      "Current loss value: 381616740.0\n",
      "Image saved as my_result_at_iteration_7.png\n",
      "Iteration 7 completed in 5s\n",
      "Start of iteation 8\n",
      "Current loss value: 340440220.0\n",
      "Image saved as my_result_at_iteration_8.png\n",
      "Iteration 8 completed in 5s\n",
      "Start of iteation 9\n",
      "Current loss value: 312984320.0\n",
      "Image saved as my_result_at_iteration_9.png\n",
      "Iteration 9 completed in 5s\n",
      "Start of iteation 10\n",
      "Current loss value: 292413800.0\n",
      "Image saved as my_result_at_iteration_10.png\n",
      "Iteration 10 completed in 5s\n",
      "Start of iteation 11\n",
      "Current loss value: 251449020.0\n",
      "Image saved as my_result_at_iteration_11.png\n",
      "Iteration 11 completed in 6s\n",
      "Start of iteation 12\n",
      "Current loss value: 233302990.0\n",
      "Image saved as my_result_at_iteration_12.png\n",
      "Iteration 12 completed in 5s\n",
      "Start of iteation 13\n",
      "Current loss value: 221030940.0\n",
      "Image saved as my_result_at_iteration_13.png\n",
      "Iteration 13 completed in 5s\n",
      "Start of iteation 14\n",
      "Current loss value: 211415800.0\n",
      "Image saved as my_result_at_iteration_14.png\n",
      "Iteration 14 completed in 5s\n",
      "Start of iteation 15\n",
      "Current loss value: 203010270.0\n",
      "Image saved as my_result_at_iteration_15.png\n",
      "Iteration 15 completed in 5s\n",
      "Start of iteation 16\n",
      "Current loss value: 194060260.0\n",
      "Image saved as my_result_at_iteration_16.png\n",
      "Iteration 16 completed in 5s\n",
      "Start of iteation 17\n",
      "Current loss value: 186493890.0\n",
      "Image saved as my_result_at_iteration_17.png\n",
      "Iteration 17 completed in 5s\n",
      "Start of iteation 18\n",
      "Current loss value: 180666690.0\n",
      "Image saved as my_result_at_iteration_18.png\n",
      "Iteration 18 completed in 5s\n",
      "Start of iteation 19\n",
      "Current loss value: 174313280.0\n",
      "Image saved as my_result_at_iteration_19.png\n",
      "Iteration 19 completed in 5s\n"
     ]
    }
   ],
   "source": [
    "from scipy.optimize import fmin_l_bfgs_b\n",
    "from scipy.misc import imsave\n",
    "import time\n",
    "\n",
    "result_prefix = 'my_result'\n",
    "iterations = 20\n",
    "\n",
    "x = preprocess_image(target_image_path)\n",
    "x = x.flatten()\n",
    "\n",
    "for i in range(iterations):\n",
    "    \n",
    "    print('Start of iteation', i)\n",
    "    start_time = time.time()\n",
    "    x, min_val, info = fmin_l_bfgs_b(evaluator.loss,\n",
    "                                    x,\n",
    "                                    fprime=evaluator.grads,\n",
    "                                    maxfun=20)\n",
    "    print('Current loss value:', min_val)\n",
    "    img = x.copy().reshape((img_height, img_width, 3))\n",
    "    img = deprocess_image(img)\n",
    "    fname = result_prefix + '_at_iteration_%d.png' % i\n",
    "    imsave(fname, img)\n",
    "    print(\"Image saved as\", fname)\n",
    "    end_time = time.time()\n",
    "    print(\"Iteration %d completed in %ds\" % (i, end_time - start_time))"
   ]
  },
  {
   "cell_type": "code",
   "execution_count": null,
   "metadata": {},
   "outputs": [],
   "source": []
  }
 ],
 "metadata": {
  "kernelspec": {
   "display_name": "Python 3",
   "language": "python",
   "name": "python3"
  },
  "language_info": {
   "codemirror_mode": {
    "name": "ipython",
    "version": 3
   },
   "file_extension": ".py",
   "mimetype": "text/x-python",
   "name": "python",
   "nbconvert_exporter": "python",
   "pygments_lexer": "ipython3",
   "version": "3.6.5"
  }
 },
 "nbformat": 4,
 "nbformat_minor": 2
}
