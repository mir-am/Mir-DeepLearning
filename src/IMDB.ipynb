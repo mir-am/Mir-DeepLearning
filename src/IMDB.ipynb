{
 "cells": [
  {
   "cell_type": "markdown",
   "metadata": {},
   "source": [
    "## Classification of Movie Reviews - IMDB dataset"
   ]
  },
  {
   "cell_type": "markdown",
   "metadata": {},
   "source": [
    "First, we load movie data from Keras package."
   ]
  },
  {
   "cell_type": "code",
   "execution_count": 1,
   "metadata": {},
   "outputs": [
    {
     "name": "stderr",
     "output_type": "stream",
     "text": [
      "Using TensorFlow backend.\n"
     ]
    }
   ],
   "source": [
    "from keras.datasets import imdb\n",
    "\n",
    "# Select only the top 10,000 most frequent words\n",
    "(train_data, train_lables), (test_data, test_lables) = imdb.load_data(num_words=10000)"
   ]
  },
  {
   "cell_type": "markdown",
   "metadata": {},
   "source": [
    "Encoding the integer sequences into a binary matrix for the first layer of neural network"
   ]
  },
  {
   "cell_type": "code",
   "execution_count": 2,
   "metadata": {},
   "outputs": [
    {
     "data": {
      "text/plain": [
       "array([0., 1., 1., ..., 0., 0., 0.])"
      ]
     },
     "execution_count": 2,
     "metadata": {},
     "output_type": "execute_result"
    }
   ],
   "source": [
    "import numpy as np\n",
    "\n",
    "def vectorize_sequence(sequence, dimension=10000):\n",
    "    \n",
    "    results = np.zeros((len(sequence), dimension))\n",
    "    \n",
    "    for i , sequence in enumerate(sequence):\n",
    "        \n",
    "        results[i, sequence] = 1\n",
    "        \n",
    "    return results\n",
    "\n",
    "x_train = vectorize_sequence(train_data)\n",
    "x_test = vectorize_sequence(test_data)\n",
    "\n",
    "# Shape of dataset\n",
    "x_train.shape\n",
    "\n",
    "# A sample of dataset looks like this\n",
    "x_train[0]"
   ]
  },
  {
   "cell_type": "markdown",
   "metadata": {},
   "source": [
    "Also, labels should be vectorized."
   ]
  },
  {
   "cell_type": "code",
   "execution_count": 3,
   "metadata": {},
   "outputs": [],
   "source": [
    "y_train = np.asarray(train_lables).astype('float32')\n",
    "y_test = np.asarray(test_lables).astype('float32')"
   ]
  },
  {
   "cell_type": "markdown",
   "metadata": {},
   "source": [
    "Parameters of Neural Network. To improve accuracy of the model, its parameter should be tuned."
   ]
  },
  {
   "cell_type": "code",
   "execution_count": 4,
   "metadata": {},
   "outputs": [],
   "source": [
    "num_hidden_units = 64\n",
    "hidden_layer_act_func = 'relu'\n",
    "output_layer_act_func = 'sigmoid'\n",
    "optimizer = 'rmsprop'\n",
    "loss_func = 'binary_crossentropy'\n",
    "epochs = 10\n",
    "batch_size = 512"
   ]
  },
  {
   "cell_type": "markdown",
   "metadata": {},
   "source": [
    "A three-layer network"
   ]
  },
  {
   "cell_type": "code",
   "execution_count": 5,
   "metadata": {},
   "outputs": [],
   "source": [
    "from keras import models\n",
    "from keras import layers\n",
    "\n",
    "model = models.Sequential()\n",
    "model.add(layers.Dense(num_hidden_units, activation=hidden_layer_act_func, input_shape=(10000,)))\n",
    "model.add(layers.Dense(num_hidden_units, activation=hidden_layer_act_func))\n",
    "model.add(layers.Dense(num_hidden_units, activation=hidden_layer_act_func))\n",
    "model.add(layers.Dense(1, activation=output_layer_act_func))"
   ]
  },
  {
   "cell_type": "markdown",
   "metadata": {},
   "source": [
    "After the model was created, you need to determine opitimizer and loss function."
   ]
  },
  {
   "cell_type": "code",
   "execution_count": 6,
   "metadata": {},
   "outputs": [],
   "source": [
    "model.compile(optimizer=optimizer, loss=loss_func, metrics=['accuracy'])"
   ]
  },
  {
   "cell_type": "markdown",
   "metadata": {},
   "source": [
    "A validation set is created to monitor the accuracy of the model on data it has never seen before."
   ]
  },
  {
   "cell_type": "code",
   "execution_count": 7,
   "metadata": {},
   "outputs": [],
   "source": [
    "x_val = x_train[:10000]\n",
    "y_val = y_train[:10000]\n",
    "partial_x_train = x_train[10000:]\n",
    "partial_y_train = y_train[10000:]"
   ]
  },
  {
   "cell_type": "markdown",
   "metadata": {},
   "source": [
    "Now, it's time to train the model."
   ]
  },
  {
   "cell_type": "code",
   "execution_count": 8,
   "metadata": {
    "scrolled": true
   },
   "outputs": [
    {
     "name": "stdout",
     "output_type": "stream",
     "text": [
      "Train on 15000 samples, validate on 10000 samples\n",
      "Epoch 1/10\n",
      "15000/15000 [==============================] - 2s 131us/step - loss: 0.4942 - acc: 0.7588 - val_loss: 0.3268 - val_acc: 0.8725\n",
      "Epoch 2/10\n",
      "15000/15000 [==============================] - 1s 77us/step - loss: 0.2640 - acc: 0.8999 - val_loss: 0.4209 - val_acc: 0.8280\n",
      "Epoch 3/10\n",
      "15000/15000 [==============================] - 1s 76us/step - loss: 0.1860 - acc: 0.9311 - val_loss: 0.2830 - val_acc: 0.8884\n",
      "Epoch 4/10\n",
      "15000/15000 [==============================] - 1s 77us/step - loss: 0.1458 - acc: 0.9485 - val_loss: 0.3136 - val_acc: 0.8841\n",
      "Epoch 5/10\n",
      "15000/15000 [==============================] - 1s 78us/step - loss: 0.1060 - acc: 0.9637 - val_loss: 0.3458 - val_acc: 0.8846\n",
      "Epoch 6/10\n",
      "15000/15000 [==============================] - 1s 77us/step - loss: 0.0902 - acc: 0.9716 - val_loss: 0.3859 - val_acc: 0.8800\n",
      "Epoch 7/10\n",
      "15000/15000 [==============================] - 1s 77us/step - loss: 0.0742 - acc: 0.9797 - val_loss: 0.4169 - val_acc: 0.8821\n",
      "Epoch 8/10\n",
      "15000/15000 [==============================] - 1s 78us/step - loss: 0.0626 - acc: 0.9849 - val_loss: 0.4440 - val_acc: 0.8814\n",
      "Epoch 9/10\n",
      "15000/15000 [==============================] - 1s 79us/step - loss: 0.0093 - acc: 0.9990 - val_loss: 0.5155 - val_acc: 0.8785\n",
      "Epoch 10/10\n",
      "15000/15000 [==============================] - 1s 78us/step - loss: 0.0659 - acc: 0.9853 - val_loss: 0.5358 - val_acc: 0.8772\n"
     ]
    }
   ],
   "source": [
    "history = model.fit(partial_x_train, partial_y_train, epochs=epochs, batch_size=batch_size, validation_data=(x_val, y_val))"
   ]
  },
  {
   "cell_type": "markdown",
   "metadata": {},
   "source": [
    "Let's plot training and validation loss using Matplotlib package"
   ]
  },
  {
   "cell_type": "code",
   "execution_count": 13,
   "metadata": {},
   "outputs": [
    {
     "data": {
      "image/png": "[encoded data removed]",
      "text/plain": [
       "<Figure size 432x288 with 1 Axes>"
      ]
     },
     "metadata": {},
     "output_type": "display_data"
    }
   ],
   "source": [
    "import matplotlib.pyplot as plt\n",
    "\n",
    "history_dict = history.history\n",
    "loss_values = history_dict['loss'] # Training loss\n",
    "val_loss_values = history_dict['val_loss'] # Validation loss\n",
    "\n",
    "epochs = range(1, len(history_dict['acc']) + 1)\n",
    "\n",
    "plt.plot(epochs, loss_values, 'bo', label='Training loss')\n",
    "plt.plot(epochs, val_loss_values, 'b', label='Validation loss')\n",
    "plt.title('Training and validation loss')\n",
    "plt.xlabel('Epochs')\n",
    "plt.ylabel('Loss')\n",
    "plt.legend()\n",
    "\n",
    "plt.show()"
   ]
  },
  {
   "cell_type": "markdown",
   "metadata": {},
   "source": [
    "Plotting the training and validation accurcy"
   ]
  },
  {
   "cell_type": "code",
   "execution_count": 10,
   "metadata": {},
   "outputs": [
    {
     "data": {
      "image/png": "[encoded data removed]",
      "text/plain": [
       "<Figure size 432x288 with 1 Axes>"
      ]
     },
     "metadata": {},
     "output_type": "display_data"
    }
   ],
   "source": [
    "plt.clf # Clear previous fig\n",
    "acc_values = history_dict['acc']\n",
    "val_acc_values = history_dict['val_acc']\n",
    "\n",
    "plt.plot(epochs, acc_values, 'bo', label='Training accuracy')\n",
    "plt.plot(epochs, val_acc_values, 'b', label='Validation acc')\n",
    "plt.title('Training and validation accuracy')\n",
    "plt.xlabel('Epochs')\n",
    "plt.ylabel('Loss')\n",
    "plt.legend()\n",
    "\n",
    "plt.show()"
   ]
  },
  {
   "cell_type": "markdown",
   "metadata": {},
   "source": [
    "Evaluate model"
   ]
  },
  {
   "cell_type": "code",
   "execution_count": 11,
   "metadata": {},
   "outputs": [
    {
     "name": "stdout",
     "output_type": "stream",
     "text": [
      "25000/25000 [==============================] - 2s 62us/step\n"
     ]
    },
    {
     "data": {
      "text/plain": [
       "[0.5879524342906475, 0.86464]"
      ]
     },
     "execution_count": 11,
     "metadata": {},
     "output_type": "execute_result"
    }
   ],
   "source": [
    "results = model.evaluate(x_test, y_test)\n",
    "results"
   ]
  },
  {
   "cell_type": "markdown",
   "metadata": {},
   "source": [
    "Predictions on new data (test data)"
   ]
  },
  {
   "cell_type": "code",
   "execution_count": 12,
   "metadata": {},
   "outputs": [
    {
     "data": {
      "text/plain": [
       "array([[0.00940163],\n",
       "       [1.        ],\n",
       "       [0.9999157 ],\n",
       "       ...,\n",
       "       [0.00771755],\n",
       "       [0.0054414 ],\n",
       "       [0.7848147 ]], dtype=float32)"
      ]
     },
     "execution_count": 12,
     "metadata": {},
     "output_type": "execute_result"
    }
   ],
   "source": [
    "model.predict(x_test)"
   ]
  },
  {
   "cell_type": "code",
   "execution_count": null,
   "metadata": {},
   "outputs": [],
   "source": []
  }
 ],
 "metadata": {
  "kernelspec": {
   "display_name": "Python 3",
   "language": "python",
   "name": "python3"
  },
  "language_info": {
   "codemirror_mode": {
    "name": "ipython",
    "version": 3
   },
   "file_extension": ".py",
   "mimetype": "text/x-python",
   "name": "python",
   "nbconvert_exporter": "python",
   "pygments_lexer": "ipython3",
   "version": "3.6.5"
  }
 },
 "nbformat": 4,
 "nbformat_minor": 2
}
