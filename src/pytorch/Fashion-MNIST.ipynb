{
 "cells": [
  {
   "cell_type": "markdown",
   "metadata": {},
   "source": [
    "### Fashion-MNIST"
   ]
  },
  {
   "cell_type": "code",
   "execution_count": 1,
   "metadata": {},
   "outputs": [],
   "source": [
    "import torch\n",
    "import torchvision\n",
    "import torchvision.transforms as transforms"
   ]
  },
  {
   "cell_type": "code",
   "execution_count": 2,
   "metadata": {},
   "outputs": [
    {
     "name": "stdout",
     "output_type": "stream",
     "text": [
      "Downloading http://fashion-mnist.s3-website.eu-central-1.amazonaws.com/train-images-idx3-ubyte.gz to ./data/F-MNIST\\FashionMNIST\\raw\\train-images-idx3-ubyte.gz\n"
     ]
    },
    {
     "name": "stderr",
     "output_type": "stream",
     "text": [
      "100%|█████████████████████████████████████████████████████████████████▉| 26419200/26421880 [01:21<00:00, 387384.72it/s]"
     ]
    },
    {
     "name": "stdout",
     "output_type": "stream",
     "text": [
      "Extracting ./data/F-MNIST\\FashionMNIST\\raw\\train-images-idx3-ubyte.gz to ./data/F-MNIST\\FashionMNIST\\raw\n",
      "Downloading http://fashion-mnist.s3-website.eu-central-1.amazonaws.com/train-labels-idx1-ubyte.gz to ./data/F-MNIST\\FashionMNIST\\raw\\train-labels-idx1-ubyte.gz\n"
     ]
    },
    {
     "name": "stderr",
     "output_type": "stream",
     "text": [
      "\n",
      "0it [00:00, ?it/s]\n",
      "  0%|                                                                                        | 0/29515 [00:00<?, ?it/s]\n",
      "32768it [00:00, 168396.25it/s]                                                                                         "
     ]
    },
    {
     "name": "stdout",
     "output_type": "stream",
     "text": [
      "Extracting ./data/F-MNIST\\FashionMNIST\\raw\\train-labels-idx1-ubyte.gz to ./data/F-MNIST\\FashionMNIST\\raw\n",
      "Downloading http://fashion-mnist.s3-website.eu-central-1.amazonaws.com/t10k-images-idx3-ubyte.gz to ./data/F-MNIST\\FashionMNIST\\raw\\t10k-images-idx3-ubyte.gz\n"
     ]
    },
    {
     "name": "stderr",
     "output_type": "stream",
     "text": [
      "\n",
      "0it [00:00, ?it/s]\n",
      "  1%|▍                                                                     | 24576/4422102 [00:00<00:29, 149477.04it/s]\n",
      "  3%|██▎                                                                  | 147456/4422102 [00:00<00:21, 202864.47it/s]\n",
      "  5%|███▋                                                                 | 237568/4422102 [00:00<00:15, 263239.37it/s]\n",
      "  8%|█████▏                                                               | 335872/4422102 [00:00<00:12, 325878.58it/s]\n",
      "  9%|██████▎                                                              | 401408/4422102 [00:00<00:11, 363818.05it/s]\n",
      " 10%|███████▏                                                             | 458752/4422102 [00:00<00:10, 377308.94it/s]\n",
      " 12%|████████                                                             | 516096/4422102 [00:00<00:09, 393855.29it/s]\n",
      " 13%|█████████                                                            | 581632/4422102 [00:01<00:08, 444646.89it/s]\n",
      " 14%|█████████▉                                                           | 638976/4422102 [00:01<00:07, 474642.95it/s]\n",
      " 16%|██████████▊                                                          | 696320/4422102 [00:01<00:09, 406582.50it/s]\n",
      " 17%|███████████▋                                                         | 745472/4422102 [00:01<00:11, 323134.70it/s]\n",
      " 18%|████████████▎                                                        | 786432/4422102 [00:01<00:14, 246777.69it/s]\n",
      " 19%|████████████▊                                                        | 819200/4422102 [00:01<00:15, 237598.47it/s]\n",
      " 19%|█████████████▎                                                       | 851968/4422102 [00:02<00:14, 250941.11it/s]\n",
      " 20%|█████████████▊                                                       | 884736/4422102 [00:02<00:14, 246998.53it/s]\n",
      " 21%|██████████████▎                                                      | 917504/4422102 [00:02<00:15, 232494.99it/s]\n",
      " 22%|██████████████▉                                                      | 958464/4422102 [00:02<00:13, 261623.23it/s]\n",
      " 23%|███████████████▍                                                    | 1007616/4422102 [00:02<00:13, 248645.45it/s]\n",
      " 24%|███████████████▉                                                    | 1040384/4422102 [00:02<00:15, 224837.89it/s]\n",
      " 24%|████████████████▍                                                   | 1064960/4422102 [00:03<00:16, 198691.44it/s]\n",
      " 25%|████████████████▊                                                   | 1089536/4422102 [00:03<00:19, 171910.35it/s]\n",
      " 25%|█████████████████▏                                                  | 1114112/4422102 [00:03<00:19, 167542.47it/s]\n",
      " 26%|█████████████████▋                                                  | 1146880/4422102 [00:03<00:17, 190490.49it/s]\n",
      " 27%|██████████████████▏                                                 | 1179648/4422102 [00:03<00:15, 211210.57it/s]\n",
      " 28%|██████████████████▉                                                 | 1228800/4422102 [00:03<00:12, 248533.90it/s]\n",
      " 29%|███████████████████▍                                                | 1261568/4422102 [00:03<00:12, 253684.41it/s]\n",
      " 29%|███████████████████▉                                                | 1294336/4422102 [00:04<00:14, 209093.54it/s]\n",
      " 30%|████████████████████▎                                               | 1318912/4422102 [00:04<00:14, 217833.87it/s]\n",
      " 31%|████████████████████▊                                               | 1351680/4422102 [00:04<00:13, 224921.20it/s]\n",
      " 31%|█████████████████████▏                                              | 1376256/4422102 [00:04<00:15, 200801.90it/s]\n",
      " 32%|█████████████████████▌                                              | 1400832/4422102 [00:04<00:17, 172230.71it/s]\n",
      " 32%|█████████████████████▉                                              | 1425408/4422102 [00:04<00:17, 173944.18it/s]\n",
      " 33%|██████████████████████▎                                             | 1449984/4422102 [00:04<00:16, 175364.20it/s]\n",
      " 34%|██████████████████████▊                                             | 1482752/4422102 [00:05<00:14, 202498.84it/s]\n",
      " 35%|███████████████████████▌                                            | 1531904/4422102 [00:05<00:11, 244320.31it/s]\n",
      " 36%|████████████████████████▎                                           | 1581056/4422102 [00:05<00:09, 285960.15it/s]\n",
      " 37%|█████████████████████████▏                                          | 1638400/4422102 [00:05<00:08, 327396.78it/s]\n",
      " 38%|█████████████████████████▉                                          | 1687552/4422102 [00:05<00:07, 353181.43it/s]\n",
      " 39%|██████████████████████████▋                                         | 1736704/4422102 [00:05<00:07, 370277.32it/s]\n",
      " 40%|███████████████████████████▎                                        | 1777664/4422102 [00:05<00:06, 378469.38it/s]\n",
      " 42%|████████████████████████████▎                                       | 1843200/4422102 [00:05<00:05, 430299.20it/s]\n",
      " 43%|█████████████████████████████▍                                      | 1916928/4422102 [00:05<00:05, 491053.12it/s]\n",
      " 45%|██████████████████████████████▎                                     | 1974272/4422102 [00:05<00:04, 493122.57it/s]\n",
      " 46%|███████████████████████████████▍                                    | 2048000/4422102 [00:06<00:04, 528522.57it/s]\n",
      " 48%|████████████████████████████████▎                                   | 2105344/4422102 [00:06<00:04, 508114.03it/s]\n",
      " 49%|█████████████████████████████████▎                                  | 2162688/4422102 [00:06<00:04, 516694.57it/s]\n",
      " 51%|██████████████████████████████████▍                                 | 2236416/4422102 [00:06<00:04, 519588.46it/s]\n",
      " 52%|███████████████████████████████████▍                                | 2301952/4422102 [00:06<00:04, 520884.60it/s]\n",
      " 53%|████████████████████████████████████▎                               | 2359296/4422102 [00:06<00:05, 399241.03it/s]\n",
      " 54%|█████████████████████████████████████                               | 2408448/4422102 [00:07<00:06, 322051.80it/s]\n",
      " 55%|█████████████████████████████████████▋                              | 2449408/4422102 [00:07<00:06, 302752.15it/s]\n",
      " 56%|██████████████████████████████████████▎                             | 2490368/4422102 [00:07<00:06, 315732.78it/s]\n",
      " 58%|███████████████████████████████████████▏                            | 2547712/4422102 [00:07<00:05, 364461.03it/s]\n",
      " 59%|███████████████████████████████████████▉                            | 2596864/4422102 [00:07<00:04, 374405.18it/s]\n",
      " 60%|████████████████████████████████████████▊                           | 2654208/4422102 [00:07<00:04, 411681.56it/s]\n",
      " 61%|█████████████████████████████████████████▌                          | 2703360/4422102 [00:07<00:04, 429440.89it/s]\n",
      " 62%|██████████████████████████████████████████▍                         | 2760704/4422102 [00:07<00:03, 446080.43it/s]\n",
      " 64%|███████████████████████████████████████████▌                        | 2834432/4422102 [00:07<00:03, 505067.07it/s]\n",
      " 65%|████████████████████████████████████████████▍                       | 2891776/4422102 [00:08<00:03, 495385.53it/s]\n",
      " 67%|█████████████████████████████████████████████▎                      | 2949120/4422102 [00:08<00:03, 380054.79it/s]\n",
      " 68%|██████████████████████████████████████████████                      | 2998272/4422102 [00:08<00:03, 390072.67it/s]\n",
      " 69%|███████████████████████████████████████████████▌                     | 3047424/4422102 [00:09<00:14, 95783.41it/s]\n",
      " 70%|████████████████████████████████████████████████                     | 3080192/4422102 [00:10<00:14, 92132.59it/s]\n",
      " 70%|████████████████████████████████████████████████▍                    | 3104768/4422102 [00:10<00:14, 93306.36it/s]\n",
      " 71%|████████████████████████████████████████████████▏                   | 3137536/4422102 [00:10<00:10, 118756.05it/s]\n",
      " 72%|█████████████████████████████████████████████████                   | 3186688/4422102 [00:10<00:08, 153187.38it/s]\n",
      " 73%|█████████████████████████████████████████████████▋                  | 3227648/4422102 [00:10<00:06, 184264.91it/s]\n",
      " 74%|██████████████████████████████████████████████████▎                 | 3268608/4422102 [00:10<00:05, 220314.68it/s]\n"
     ]
    },
    {
     "name": "stderr",
     "output_type": "stream",
     "text": [
      " 75%|███████████████████████████████████████████████████▎                | 3334144/4422102 [00:11<00:03, 274863.70it/s]\n",
      " 77%|████████████████████████████████████████████████████                | 3383296/4422102 [00:11<00:03, 315532.73it/s]\n",
      " 78%|████████████████████████████████████████████████████▊               | 3432448/4422102 [00:11<00:03, 312501.29it/s]\n",
      " 79%|█████████████████████████████████████████████████████▌              | 3481600/4422102 [00:11<00:02, 337611.87it/s]\n",
      " 80%|██████████████████████████████████████████████████████▍             | 3538944/4422102 [00:11<00:02, 381326.96it/s]\n",
      " 81%|███████████████████████████████████████████████████████▏            | 3588096/4422102 [00:11<00:02, 399385.79it/s]\n",
      " 82%|███████████████████████████████████████████████████████▉            | 3637248/4422102 [00:11<00:01, 420224.14it/s]\n",
      " 83%|████████████████████████████████████████████████████████▋           | 3686400/4422102 [00:11<00:01, 377229.32it/s]\n",
      " 84%|█████████████████████████████████████████████████████████▍          | 3735552/4422102 [00:12<00:01, 377517.77it/s]\n",
      " 86%|██████████████████████████████████████████████████████████▍         | 3801088/4422102 [00:12<00:01, 422437.35it/s]\n",
      " 87%|███████████████████████████████████████████████████████████▍        | 3866624/4422102 [00:12<00:01, 472106.67it/s]\n",
      " 89%|████████████████████████████████████████████████████████████▌       | 3940352/4422102 [00:12<00:00, 489025.67it/s]\n",
      " 90%|█████████████████████████████████████████████████████████████▍      | 3997696/4422102 [00:12<00:01, 377557.10it/s]\n",
      " 92%|██████████████████████████████████████████████████████████████▎     | 4055040/4422102 [00:12<00:00, 418683.92it/s]\n",
      " 94%|███████████████████████████████████████████████████████████████▋    | 4145152/4422102 [00:12<00:00, 494678.66it/s]\n",
      " 95%|████████████████████████████████████████████████████████████████▋   | 4210688/4422102 [00:12<00:00, 491718.27it/s]\n",
      " 97%|█████████████████████████████████████████████████████████████████▋  | 4268032/4422102 [00:13<00:00, 393218.20it/s]\n",
      " 98%|██████████████████████████████████████████████████████████████████▌ | 4325376/4422102 [00:13<00:00, 426020.68it/s]\n",
      " 99%|███████████████████████████████████████████████████████████████████▍| 4382720/4422102 [00:13<00:00, 439073.74it/s]"
     ]
    },
    {
     "name": "stdout",
     "output_type": "stream",
     "text": [
      "Extracting ./data/F-MNIST\\FashionMNIST\\raw\\t10k-images-idx3-ubyte.gz to ./data/F-MNIST\\FashionMNIST\\raw\n",
      "Downloading http://fashion-mnist.s3-website.eu-central-1.amazonaws.com/t10k-labels-idx1-ubyte.gz to ./data/F-MNIST\\FashionMNIST\\raw\\t10k-labels-idx1-ubyte.gz\n"
     ]
    },
    {
     "name": "stderr",
     "output_type": "stream",
     "text": [
      "\n",
      "\n",
      "0it [00:00, ?it/s]\n",
      "\n",
      "  0%|                                                                                         | 0/5148 [00:00<?, ?it/s]\n",
      "\n",
      "8192it [00:00, 71027.88it/s]                                                                                           "
     ]
    },
    {
     "name": "stdout",
     "output_type": "stream",
     "text": [
      "Extracting ./data/F-MNIST\\FashionMNIST\\raw\\t10k-labels-idx1-ubyte.gz to ./data/F-MNIST\\FashionMNIST\\raw\n",
      "Processing...\n",
      "Done!\n"
     ]
    },
    {
     "name": "stderr",
     "output_type": "stream",
     "text": [
      "26427392it [01:40, 387384.72it/s]                                                                                      \n",
      "4423680it [00:26, 439073.74it/s]                                                                                       "
     ]
    }
   ],
   "source": [
    "train_set = torchvision.datasets.FashionMNIST(\n",
    "    root='./data/FashionMNIST',\n",
    "    train=True,\n",
    "    download=True,\n",
    "    transform=transforms.Compose([transforms.ToTensor()])\n",
    ")"
   ]
  },
  {
   "cell_type": "code",
   "execution_count": 3,
   "metadata": {},
   "outputs": [],
   "source": [
    "train_loader = torch.utils.data.DataLoader(train_set, batch_size=10)"
   ]
  },
  {
   "cell_type": "code",
   "execution_count": 5,
   "metadata": {},
   "outputs": [],
   "source": [
    "import numpy as np\n",
    "import matplotlib.pyplot as plt\n",
    "torch.set_printoptions(linewidth=120)"
   ]
  },
  {
   "cell_type": "code",
   "execution_count": 6,
   "metadata": {},
   "outputs": [
    {
     "data": {
      "text/plain": [
       "60000"
      ]
     },
     "execution_count": 6,
     "metadata": {},
     "output_type": "execute_result"
    }
   ],
   "source": [
    "len(train_set)"
   ]
  },
  {
   "cell_type": "code",
   "execution_count": 7,
   "metadata": {},
   "outputs": [
    {
     "name": "stderr",
     "output_type": "stream",
     "text": [
      "C:\\Users\\Mir\\Anaconda3\\lib\\site-packages\\torchvision\\datasets\\mnist.py:43: UserWarning: train_labels has been renamed targets\n",
      "  warnings.warn(\"train_labels has been renamed targets\")\n"
     ]
    },
    {
     "data": {
      "text/plain": [
       "tensor([9, 0, 0,  ..., 3, 0, 5])"
      ]
     },
     "execution_count": 7,
     "metadata": {},
     "output_type": "execute_result"
    }
   ],
   "source": [
    "train_set.train_labels"
   ]
  },
  {
   "cell_type": "code",
   "execution_count": 8,
   "metadata": {},
   "outputs": [
    {
     "name": "stderr",
     "output_type": "stream",
     "text": [
      "C:\\Users\\Mir\\Anaconda3\\lib\\site-packages\\torchvision\\datasets\\mnist.py:43: UserWarning: train_labels has been renamed targets\n",
      "  warnings.warn(\"train_labels has been renamed targets\")\n"
     ]
    },
    {
     "data": {
      "text/plain": [
       "tensor([6000, 6000, 6000, 6000, 6000, 6000, 6000, 6000, 6000, 6000])"
      ]
     },
     "execution_count": 8,
     "metadata": {},
     "output_type": "execute_result"
    }
   ],
   "source": [
    "train_set.train_labels.bincount()"
   ]
  },
  {
   "cell_type": "code",
   "execution_count": 9,
   "metadata": {},
   "outputs": [],
   "source": [
    "sample = next(iter(train_set))"
   ]
  },
  {
   "cell_type": "code",
   "execution_count": 10,
   "metadata": {},
   "outputs": [],
   "source": [
    "image, label = sample"
   ]
  },
  {
   "cell_type": "code",
   "execution_count": 13,
   "metadata": {},
   "outputs": [
    {
     "name": "stdout",
     "output_type": "stream",
     "text": [
      "label: 9\n"
     ]
    },
    {
     "data": {
      "image/png": "[encoded data removed]",
      "text/plain": [
       "<Figure size 432x288 with 1 Axes>"
      ]
     },
     "metadata": {
      "needs_background": "light"
     },
     "output_type": "display_data"
    }
   ],
   "source": [
    "plt.imshow(image.squeeze(), cmap='gray')\n",
    "print('label:', label)"
   ]
  },
  {
   "cell_type": "code",
   "execution_count": 14,
   "metadata": {},
   "outputs": [],
   "source": [
    "batch = next(iter(train_loader))"
   ]
  },
  {
   "cell_type": "code",
   "execution_count": 15,
   "metadata": {},
   "outputs": [],
   "source": [
    "images, labels = batch"
   ]
  },
  {
   "cell_type": "code",
   "execution_count": 16,
   "metadata": {},
   "outputs": [
    {
     "data": {
      "text/plain": [
       "torch.Size([10, 1, 28, 28])"
      ]
     },
     "execution_count": 16,
     "metadata": {},
     "output_type": "execute_result"
    }
   ],
   "source": [
    "images.shape"
   ]
  },
  {
   "cell_type": "code",
   "execution_count": 17,
   "metadata": {},
   "outputs": [
    {
     "name": "stdout",
     "output_type": "stream",
     "text": [
      "labels: tensor([9, 0, 0, 3, 0, 2, 7, 2, 5, 5])\n"
     ]
    },
    {
     "data": {
      "image/png": "[encoded data removed]",
      "text/plain": [
       "<Figure size 1080x1080 with 1 Axes>"
      ]
     },
     "metadata": {
      "needs_background": "light"
     },
     "output_type": "display_data"
    }
   ],
   "source": [
    "grid = torchvision.utils.make_grid(images, nrow=10)\n",
    "plt.figure(figsize=(15, 15))\n",
    "plt.imshow(np.transpose(grid, (1,2,0)))\n",
    "print('labels:', labels)"
   ]
  },
  {
   "cell_type": "code",
   "execution_count": 18,
   "metadata": {},
   "outputs": [],
   "source": [
    "import torch.nn as nn"
   ]
  },
  {
   "cell_type": "markdown",
   "metadata": {},
   "source": [
    "### Network"
   ]
  },
  {
   "cell_type": "code",
   "execution_count": 27,
   "metadata": {},
   "outputs": [],
   "source": [
    "class Network(nn.Module):\n",
    "    def __init__(self):\n",
    "        super(Network, self).__init__()\n",
    "        \n",
    "        self.conv1 = nn.Conv2d(in_channels=1, out_channels=6, kernel_size=5)\n",
    "        self.conv2 = nn.Conv2d(in_channels=6, out_channels=12, kernel_size=5)\n",
    "        \n",
    "        self.fc1 = nn.Linear(in_features=12*4*4, out_features=120)\n",
    "        self.fc2 = nn.Linear(in_features=120, out_features=60)\n",
    "        self.out = nn.Linear(in_features=60, out_features=10)\n",
    "        \n",
    "        def forward(self, t):\n",
    "            \n",
    "            # (1) Input layer\n",
    "            t = t\n",
    "            \n",
    "            # (2) hidden conv layer\n",
    "            t = self.conv1(t)\n",
    "            t = F.relu()\n",
    "            t = F.max_pool2d(t, kernel_size=2, stride=2)\n",
    "            \n",
    "            # (3) hidden conv layer\n",
    "            t = self.conv2(t)\n",
    "            t = F.relu(t)\n",
    "            t = F.max_pool2d(t, kernel_size=2, stride=2)\n",
    "            \n",
    "            # (4) hidden linear layer\n",
    "            t = t.reshape(-1, 12 * 4 * 4)\n",
    "            t = self.fc1(t)\n",
    "            t = F.relu(t)\n",
    "            \n",
    "            # (5) hidden linear layer\n",
    "            t = self.fc2(t)\n",
    "            t = F.relu(t)\n",
    "            \n",
    "            # (6) output layer\n",
    "            t = self.out(t)\n",
    "            t = F.softmax(t, dim=1)\n",
    "            \n",
    "            return t"
   ]
  },
  {
   "cell_type": "code",
   "execution_count": 21,
   "metadata": {},
   "outputs": [],
   "source": [
    "network = Network()"
   ]
  },
  {
   "cell_type": "code",
   "execution_count": 22,
   "metadata": {},
   "outputs": [
    {
     "name": "stdout",
     "output_type": "stream",
     "text": [
      "Network(\n",
      "  (conv1): Conv2d(1, 6, kernel_size=(5, 5), stride=(1, 1))\n",
      "  (conv2): Conv2d(6, 12, kernel_size=(5, 5), stride=(1, 1))\n",
      "  (fc1): Linear(in_features=192, out_features=120, bias=True)\n",
      "  (fc2): Linear(in_features=120, out_features=60, bias=True)\n",
      "  (out): Linear(in_features=60, out_features=10, bias=True)\n",
      ")\n"
     ]
    }
   ],
   "source": [
    "print(network)"
   ]
  },
  {
   "cell_type": "code",
   "execution_count": 23,
   "metadata": {},
   "outputs": [
    {
     "data": {
      "text/plain": [
       "Parameter containing:\n",
       "tensor([[[[-4.4340e-02, -9.5982e-02,  1.5243e-01,  8.8273e-02,  4.2101e-02],\n",
       "          [-8.0587e-02, -1.8458e-01,  1.6426e-01, -1.5302e-01,  4.2759e-02],\n",
       "          [-5.0627e-02, -1.2088e-01,  1.2653e-01,  9.4235e-02,  1.0481e-01],\n",
       "          [ 6.9453e-02, -1.8506e-01,  1.5989e-01,  6.2367e-02, -4.6069e-02],\n",
       "          [ 1.4446e-01, -3.0072e-02, -1.8757e-01,  1.7612e-01, -1.0024e-01]]],\n",
       "\n",
       "\n",
       "        [[[-1.4695e-03,  1.6454e-01,  9.1133e-02,  3.2570e-02, -1.3863e-01],\n",
       "          [-1.1292e-01,  1.9511e-01,  1.7695e-01, -9.7631e-02, -1.1508e-01],\n",
       "          [-1.9616e-03, -1.5721e-01,  4.4956e-02,  1.6503e-01,  6.7812e-02],\n",
       "          [-1.4019e-01, -1.8665e-01, -1.0329e-01, -1.6609e-01, -9.9711e-02],\n",
       "          [ 1.0662e-01, -5.2030e-02, -1.4119e-03,  1.4584e-01,  1.7586e-04]]],\n",
       "\n",
       "\n",
       "        [[[-1.4248e-01, -4.2374e-02, -1.4887e-01,  1.1088e-01, -3.5609e-02],\n",
       "          [-6.8686e-02,  1.4906e-01,  1.2948e-01,  1.3683e-01, -7.0123e-03],\n",
       "          [ 6.4203e-03,  3.9646e-02,  6.7659e-02, -5.5824e-02, -5.8659e-02],\n",
       "          [ 3.7853e-02, -1.2192e-01, -3.6078e-02, -1.6495e-02, -1.9826e-01],\n",
       "          [-1.7081e-01, -1.3753e-01,  2.8196e-02, -1.2408e-01,  1.9480e-01]]],\n",
       "\n",
       "\n",
       "        [[[ 1.2465e-01, -1.5731e-01, -7.7459e-02, -1.0243e-01,  9.7594e-02],\n",
       "          [ 9.9037e-02, -8.3280e-02, -5.9613e-02, -1.5326e-02,  1.6046e-01],\n",
       "          [ 2.0779e-02,  1.6730e-01,  2.0484e-02,  1.8774e-01,  1.8644e-01],\n",
       "          [-9.3874e-02,  3.4248e-02,  1.8409e-01,  2.5524e-02, -3.1970e-02],\n",
       "          [ 2.1542e-02, -1.5706e-01,  1.2677e-01, -1.9160e-02, -1.7476e-01]]],\n",
       "\n",
       "\n",
       "        [[[-9.4750e-02, -1.9579e-01, -2.7051e-02,  1.4265e-01, -1.7353e-01],\n",
       "          [ 1.8479e-01,  7.8490e-02,  3.6312e-02,  1.2992e-02, -1.8619e-02],\n",
       "          [ 1.9635e-01, -2.3993e-02, -1.0205e-01,  7.7997e-02, -1.5698e-01],\n",
       "          [-1.3958e-01,  1.4859e-01, -3.6404e-05,  1.6081e-01,  1.4897e-01],\n",
       "          [ 1.5881e-01, -1.8108e-01,  1.3694e-01,  1.9044e-01,  1.3251e-02]]],\n",
       "\n",
       "\n",
       "        [[[-2.3812e-02,  1.4131e-02,  2.8258e-02,  1.1360e-01, -1.7630e-01],\n",
       "          [ 8.1043e-02, -1.8971e-01,  1.8855e-01, -8.0006e-02, -1.8382e-01],\n",
       "          [ 9.8058e-02, -2.1789e-02,  1.9462e-01,  1.2317e-01, -8.9169e-03],\n",
       "          [-1.8148e-01,  1.9629e-01, -1.7102e-01, -1.6356e-01,  1.1808e-01],\n",
       "          [-1.5029e-01, -1.5285e-01,  1.8965e-02,  4.0190e-02,  1.4569e-01]]]], requires_grad=True)"
      ]
     },
     "execution_count": 23,
     "metadata": {},
     "output_type": "execute_result"
    }
   ],
   "source": [
    "network.conv1.weight"
   ]
  },
  {
   "cell_type": "code",
   "execution_count": 24,
   "metadata": {},
   "outputs": [
    {
     "data": {
      "text/plain": [
       "torch.Size([6, 1, 5, 5])"
      ]
     },
     "execution_count": 24,
     "metadata": {},
     "output_type": "execute_result"
    }
   ],
   "source": [
    "network.conv1.weight.shape"
   ]
  },
  {
   "cell_type": "markdown",
   "metadata": {},
   "source": [
    "### Parameters"
   ]
  },
  {
   "cell_type": "code",
   "execution_count": 26,
   "metadata": {},
   "outputs": [
    {
     "name": "stdout",
     "output_type": "stream",
     "text": [
      "conv1.weight \t\t torch.Size([6, 1, 5, 5])\n",
      "conv1.bias \t\t torch.Size([6])\n",
      "conv2.weight \t\t torch.Size([12, 6, 5, 5])\n",
      "conv2.bias \t\t torch.Size([12])\n",
      "fc1.weight \t\t torch.Size([120, 192])\n",
      "fc1.bias \t\t torch.Size([120])\n",
      "fc2.weight \t\t torch.Size([60, 120])\n",
      "fc2.bias \t\t torch.Size([60])\n",
      "out.weight \t\t torch.Size([10, 60])\n",
      "out.bias \t\t torch.Size([10])\n"
     ]
    }
   ],
   "source": [
    "for name, param in network.named_parameters():\n",
    "    print(name, '\\t\\t', param.shape)"
   ]
  },
  {
   "cell_type": "code",
   "execution_count": null,
   "metadata": {},
   "outputs": [],
   "source": []
  }
 ],
 "metadata": {
  "kernelspec": {
   "display_name": "Python 3",
   "language": "python",
   "name": "python3"
  },
  "language_info": {
   "codemirror_mode": {
    "name": "ipython",
    "version": 3
   },
   "file_extension": ".py",
   "mimetype": "text/x-python",
   "name": "python",
   "nbconvert_exporter": "python",
   "pygments_lexer": "ipython3",
   "version": "3.7.1"
  }
 },
 "nbformat": 4,
 "nbformat_minor": 2
}
