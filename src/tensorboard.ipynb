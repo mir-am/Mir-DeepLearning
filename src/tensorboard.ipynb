{
 "cells": [
  {
   "cell_type": "markdown",
   "metadata": {},
   "source": [
    "## Text classification model to use with TensorBoard"
   ]
  },
  {
   "cell_type": "code",
   "execution_count": 1,
   "metadata": {},
   "outputs": [
    {
     "name": "stderr",
     "output_type": "stream",
     "text": [
      "/usr/local/lib/python3.5/dist-packages/h5py/__init__.py:36: FutureWarning: Conversion of the second argument of issubdtype from `float` to `np.floating` is deprecated. In future, it will be treated as `np.float64 == np.dtype(float).type`.\n",
      "  from ._conv import register_converters as _register_converters\n",
      "Using TensorFlow backend.\n"
     ]
    }
   ],
   "source": [
    "import keras\n",
    "from keras import layers\n",
    "from keras.datasets import imdb\n",
    "from keras.preprocessing import sequence\n",
    "\n",
    "max_features = 2000\n",
    "max_len = 500\n",
    "\n",
    "(x_train, y_train), (x_test, y_test) = imdb.load_data(num_words=max_features)\n",
    "x_train = sequence.pad_sequences(x_train, maxlen=max_len)\n",
    "x_test = sequence.pad_sequences(x_test, maxlen=max_len)\n"
   ]
  },
  {
   "cell_type": "code",
   "execution_count": 2,
   "metadata": {},
   "outputs": [
    {
     "name": "stdout",
     "output_type": "stream",
     "text": [
      "_________________________________________________________________\n",
      "Layer (type)                 Output Shape              Param #   \n",
      "=================================================================\n",
      "embed (Embedding)            (None, 500, 128)          256000    \n",
      "_________________________________________________________________\n",
      "conv1d_1 (Conv1D)            (None, 494, 32)           28704     \n",
      "_________________________________________________________________\n",
      "max_pooling1d_1 (MaxPooling1 (None, 98, 32)            0         \n",
      "_________________________________________________________________\n",
      "conv1d_2 (Conv1D)            (None, 92, 32)            7200      \n",
      "_________________________________________________________________\n",
      "global_max_pooling1d_1 (Glob (None, 32)                0         \n",
      "_________________________________________________________________\n",
      "dense_1 (Dense)              (None, 1)                 33        \n",
      "=================================================================\n",
      "Total params: 291,937\n",
      "Trainable params: 291,937\n",
      "Non-trainable params: 0\n",
      "_________________________________________________________________\n"
     ]
    }
   ],
   "source": [
    "model = keras.models.Sequential()\n",
    "\n",
    "model.add(layers.Embedding(max_features, 128, input_length=max_len, name='embed'))\n",
    "model.add(layers.Conv1D(32, 7, activation='relu'))\n",
    "model.add(layers.MaxPooling1D(5))\n",
    "\n",
    "model.add(layers.Conv1D(32, 7, activation='relu'))\n",
    "model.add(layers.GlobalMaxPooling1D())\n",
    "\n",
    "model.add(layers.Dense(1))\n",
    "model.summary()"
   ]
  },
  {
   "cell_type": "code",
   "execution_count": 3,
   "metadata": {},
   "outputs": [
    {
     "name": "stdout",
     "output_type": "stream",
     "text": [
      "Train on 20000 samples, validate on 5000 samples\n",
      "Epoch 1/20\n",
      "20000/20000 [==============================] - 66s 3ms/step - loss: 0.6356 - acc: 0.6494 - val_loss: 0.4228 - val_acc: 0.8312\n",
      "Epoch 2/20\n",
      "20000/20000 [==============================] - 64s 3ms/step - loss: 0.4498 - acc: 0.8033 - val_loss: 0.4284 - val_acc: 0.8220\n",
      "Epoch 3/20\n",
      "20000/20000 [==============================] - 65s 3ms/step - loss: 0.3936 - acc: 0.7821 - val_loss: 0.6623 - val_acc: 0.7112\n",
      "Epoch 4/20\n",
      "20000/20000 [==============================] - 64s 3ms/step - loss: 0.3488 - acc: 0.7544 - val_loss: 0.7234 - val_acc: 0.6806\n",
      "Epoch 5/20\n",
      "20000/20000 [==============================] - 64s 3ms/step - loss: 0.2952 - acc: 0.7292 - val_loss: 0.5443 - val_acc: 0.7004\n",
      "Epoch 6/20\n",
      "20000/20000 [==============================] - 64s 3ms/step - loss: 0.2531 - acc: 0.6690 - val_loss: 0.6651 - val_acc: 0.5928\n",
      "Epoch 7/20\n",
      "20000/20000 [==============================] - 64s 3ms/step - loss: 0.2125 - acc: 0.6083 - val_loss: 0.8333 - val_acc: 0.5172\n",
      "Epoch 8/20\n",
      "20000/20000 [==============================] - 64s 3ms/step - loss: 0.1767 - acc: 0.5679 - val_loss: 1.0803 - val_acc: 0.4340\n",
      "Epoch 9/20\n",
      "20000/20000 [==============================] - 64s 3ms/step - loss: 0.1552 - acc: 0.4926 - val_loss: 0.8234 - val_acc: 0.4502\n",
      "Epoch 10/20\n",
      "20000/20000 [==============================] - 64s 3ms/step - loss: 0.1291 - acc: 0.4323 - val_loss: 0.9152 - val_acc: 0.3688\n",
      "Epoch 11/20\n",
      "20000/20000 [==============================] - 65s 3ms/step - loss: 0.1094 - acc: 0.3752 - val_loss: 1.3886 - val_acc: 0.3036\n",
      "Epoch 12/20\n",
      "20000/20000 [==============================] - 64s 3ms/step - loss: 0.1122 - acc: 0.3086 - val_loss: 1.1007 - val_acc: 0.3086\n",
      "Epoch 13/20\n",
      "20000/20000 [==============================] - 63s 3ms/step - loss: 0.1055 - acc: 0.2677 - val_loss: 1.0718 - val_acc: 0.3014\n",
      "Epoch 14/20\n",
      "20000/20000 [==============================] - 63s 3ms/step - loss: 0.0974 - acc: 0.2401 - val_loss: 1.2114 - val_acc: 0.2716\n",
      "Epoch 15/20\n",
      "20000/20000 [==============================] - 63s 3ms/step - loss: 0.1007 - acc: 0.2122 - val_loss: 1.1687 - val_acc: 0.2544\n",
      "Epoch 16/20\n",
      "20000/20000 [==============================] - 63s 3ms/step - loss: 0.0928 - acc: 0.1784 - val_loss: 1.1651 - val_acc: 0.2494\n",
      "Epoch 17/20\n",
      "20000/20000 [==============================] - 63s 3ms/step - loss: 0.0966 - acc: 0.1618 - val_loss: 1.1755 - val_acc: 0.2332\n",
      "Epoch 18/20\n",
      "20000/20000 [==============================] - 63s 3ms/step - loss: 0.0937 - acc: 0.1458 - val_loss: 1.1968 - val_acc: 0.2328\n",
      "Epoch 19/20\n",
      "20000/20000 [==============================] - 64s 3ms/step - loss: 0.0924 - acc: 0.1357 - val_loss: 1.2489 - val_acc: 0.2224\n",
      "Epoch 20/20\n",
      "20000/20000 [==============================] - 67s 3ms/step - loss: 0.0927 - acc: 0.1336 - val_loss: 1.2211 - val_acc: 0.2140\n"
     ]
    }
   ],
   "source": [
    "model.compile(optimizer='rmsprop', loss='binary_crossentropy', metrics=['acc'])\n",
    "\n",
    "callbacks = [keras.callbacks.TensorBoard(\n",
    "                log_dir='log',\n",
    "                histogram_freq=1,\n",
    "\n",
    ")]\n",
    "\n",
    "history = model.fit(x_train, y_train,\n",
    "                   epochs=20, batch_size=128, validation_split=0.2, callbacks=callbacks)"
   ]
  },
  {
   "cell_type": "code",
   "execution_count": null,
   "metadata": {},
   "outputs": [],
   "source": []
  }
 ],
 "metadata": {
  "kernelspec": {
   "display_name": "Python 3",
   "language": "python",
   "name": "python3"
  },
  "language_info": {
   "codemirror_mode": {
    "name": "ipython",
    "version": 3
   },
   "file_extension": ".py",
   "mimetype": "text/x-python",
   "name": "python",
   "nbconvert_exporter": "python",
   "pygments_lexer": "ipython3",
   "version": "3.5.2"
  }
 },
 "nbformat": 4,
 "nbformat_minor": 2
}
