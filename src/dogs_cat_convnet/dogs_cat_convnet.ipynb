{
 "cells": [
  {
   "cell_type": "markdown",
   "metadata": {},
   "source": [
    "## Copying images to training, validation and test directories."
   ]
  },
  {
   "cell_type": "code",
   "execution_count": 1,
   "metadata": {},
   "outputs": [],
   "source": [
    "from os.path import join\n",
    "import os\n",
    "import shutil\n",
    "\n",
    "org_dataset_dir = '/home/mir/Downloads/kaggle_cat_dog'\n",
    "\n",
    "base_dir = '/home/mir/Dataset/cats_dogs_small'\n",
    "os.mkdir(base_dir)"
   ]
  },
  {
   "cell_type": "markdown",
   "metadata": {},
   "source": [
    "Directories for the training, validation, and test splits"
   ]
  },
  {
   "cell_type": "code",
   "execution_count": 2,
   "metadata": {},
   "outputs": [],
   "source": [
    "train_dir = join(base_dir, 'train')\n",
    "os.mkdir(train_dir)\n",
    "\n",
    "validation_dir = join(base_dir, 'validation')\n",
    "os.mkdir(validation_dir)\n",
    "\n",
    "test_dir = join(base_dir, 'test')\n",
    "os.mkdir(test_dir)"
   ]
  },
  {
   "cell_type": "code",
   "execution_count": 3,
   "metadata": {},
   "outputs": [],
   "source": [
    "# Directory with training cat and dog pictrues\n",
    "train_cats_dir = join(train_dir, 'cats')\n",
    "os.mkdir(train_cats_dir)\n",
    "\n",
    "train_dogs_dir = join(train_dir, 'dogs')\n",
    "os.mkdir(train_dogs_dir)\n",
    "\n",
    "# Directory with validation cat and dog pictures\n",
    "validation_cats_dir = join(validation_dir, 'cats')\n",
    "os.mkdir(validation_cats_dir)\n",
    "\n",
    "validation_dogs_dir = join(validation_dir, 'dogs')\n",
    "os.mkdir(validation_dogs_dir)\n",
    "\n",
    "# Directory with test cat and dog pictures\n",
    "test_cats_dir = join(test_dir, 'cats')\n",
    "os.mkdir(test_cats_dir)\n",
    "\n",
    "test_dogs_dir = join(test_dir, 'dogs')\n",
    "os.mkdir(test_dogs_dir)"
   ]
  },
  {
   "cell_type": "markdown",
   "metadata": {},
   "source": [
    "Copy cat images"
   ]
  },
  {
   "cell_type": "code",
   "execution_count": 6,
   "metadata": {
    "scrolled": true
   },
   "outputs": [],
   "source": [
    "# Copies the first 1000 cat images to train_cats_dir\n",
    "fnames = ['{}.jpg'.format(i) for i in range(1000)]\n",
    "\n",
    "for fname in fnames:\n",
    "    \n",
    "    src = join(org_dataset_dir, 'cats', fname)\n",
    "    dst = join(train_cats_dir, fname)\n",
    "    shutil.copyfile(src, dst)\n",
    "    \n",
    "# Copies the next 500 cat images to validation_cats_dir    \n",
    "fnames = ['{}.jpg'.format(i) for i in range(1000, 1500)]\n",
    "\n",
    "for fname in fnames:\n",
    "    \n",
    "    src = join(org_dataset_dir, 'cats', fname)\n",
    "    dst = join(validation_cats_dir, fname)\n",
    "    shutil.copyfile(src, dst)\n",
    "    \n",
    "# Copies the next 500 cat images to test_cats_dir    \n",
    "fnames = ['{}.jpg'.format(i) for i in range(1500, 2000)]\n",
    "\n",
    "for fname in fnames:\n",
    "    \n",
    "    src = join(org_dataset_dir, 'cats', fname)\n",
    "    dst = join(test_cats_dir, fname)\n",
    "    shutil.copyfile(src, dst)    \n",
    "\n",
    "# Copies the first 1000 dog images to train_dogs_dir\n",
    "fnames = ['{}.jpg'.format(i) for i in range(1000)]\n",
    "\n",
    "for fname in fnames:\n",
    "    \n",
    "    src = join(org_dataset_dir, 'dogs', fname)\n",
    "    dst = join(train_dogs_dir, fname)\n",
    "    shutil.copyfile(src, dst)\n",
    "    \n",
    "# Copies the next 500 dog images to validation_dogs_dir    \n",
    "fnames = ['{}.jpg'.format(i) for i in range(1000, 1500)]\n",
    "\n",
    "for fname in fnames:\n",
    "    \n",
    "    src = join(org_dataset_dir, 'dogs', fname)\n",
    "    dst = join(validation_dogs_dir, fname)\n",
    "    shutil.copyfile(src, dst)\n",
    "    \n",
    "# Copies the next 500 dog images to test_dogs_dir    \n",
    "fnames = ['{}.jpg'.format(i) for i in range(1500, 2000)]\n",
    "\n",
    "for fname in fnames:\n",
    "    \n",
    "    src = join(org_dataset_dir, 'dogs', fname)\n",
    "    dst = join(test_dogs_dir, fname)\n",
    "    shutil.copyfile(src, dst)    "
   ]
  },
  {
   "cell_type": "code",
   "execution_count": null,
   "metadata": {},
   "outputs": [],
   "source": []
  }
 ],
 "metadata": {
  "kernelspec": {
   "display_name": "Python 3",
   "language": "python",
   "name": "python3"
  },
  "language_info": {
   "codemirror_mode": {
    "name": "ipython",
    "version": 3
   },
   "file_extension": ".py",
   "mimetype": "text/x-python",
   "name": "python",
   "nbconvert_exporter": "python",
   "pygments_lexer": "ipython3",
   "version": "3.6.5"
  }
 },
 "nbformat": 4,
 "nbformat_minor": 2
}
