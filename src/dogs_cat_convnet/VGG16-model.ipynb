{
 "cells": [
  {
   "cell_type": "markdown",
   "metadata": {},
   "source": [
    "## VGG16 model"
   ]
  },
  {
   "cell_type": "code",
   "execution_count": 2,
   "metadata": {},
   "outputs": [
    {
     "name": "stdout",
     "output_type": "stream",
     "text": [
      "Downloading data from https://github.com/fchollet/deep-learning-models/releases/download/v0.1/vgg16_weights_tf_dim_ordering_tf_kernels_notop.h5\n",
      "58892288/58889256 [==============================] - 521s 9us/step\n"
     ]
    }
   ],
   "source": [
    "from keras.applications import VGG16\n",
    "\n",
    "conv_base = VGG16(weights='imagenet',\n",
    "                 include_top=False,\n",
    "                 input_shape=(150, 150, 3))"
   ]
  },
  {
   "cell_type": "code",
   "execution_count": 9,
   "metadata": {},
   "outputs": [],
   "source": [
    "import os\n",
    "import numpy as np\n",
    "from keras.preprocessing.image import ImageDataGenerator\n",
    "\n",
    "base_dir = '/home/mir/Dataset/cats_dogs_small'\n",
    "train_dir = os.path.join(base_dir, 'train')\n",
    "validation_dir = os.path.join(base_dir, 'validation')\n",
    "test_dir = os.path.join(base_dir, 'test')\n",
    "\n",
    "datagen = ImageDataGenerator(rescale=1./255)\n",
    "batch_size = 20\n",
    "\n",
    "def extract_features(directory, sample_count):\n",
    "    \n",
    "    features = np.zeros(shape=(sample_count, 4, 4, 512))\n",
    "    labels = np.zeros(shape=(sample_count))\n",
    "    generator = datagen.flow_from_directory(\n",
    "        directory,\n",
    "        target_size=(150, 150),\n",
    "        batch_size=batch_size,\n",
    "        class_mode='binary')\n",
    "    \n",
    "    i = 0\n",
    "    for inputs_batch, labels_batch in generator:\n",
    "        \n",
    "        features_batch = conv_base.predict(inputs_batch)\n",
    "        features[i * batch_size : (i + 1) * batch_size] = features_batch\n",
    "        labels[i * batch_size : (i + 1) * batch_size] = labels_batch\n",
    "        i += 1\n",
    "        \n",
    "        if i * batch_size >= sample_count:\n",
    "            break\n",
    "            \n",
    "        return features, labels"
   ]
  },
  {
   "cell_type": "code",
   "execution_count": 10,
   "metadata": {},
   "outputs": [
    {
     "name": "stdout",
     "output_type": "stream",
     "text": [
      "Found 2000 images belonging to 2 classes.\n",
      "Found 1000 images belonging to 2 classes.\n",
      "Found 1000 images belonging to 2 classes.\n"
     ]
    }
   ],
   "source": [
    "train_features, train_labels = extract_features(train_dir, 2000)\n",
    "validation_features, validation_labels = extract_features(validation_dir, 1000)\n",
    "test_features, test_labels = extract_features(test_dir , 1000)"
   ]
  },
  {
   "cell_type": "code",
   "execution_count": 12,
   "metadata": {},
   "outputs": [],
   "source": [
    "# Flatenning the extracted features\n",
    "train_features = np.reshape(train_features, (2000, 4 * 4 * 512))\n",
    "validation_features = np.reshape(validation_features, (1000, 4 * 4 * 512))\n",
    "test_features = np.reshape(test_features, (1000, 4 * 4 * 512))"
   ]
  },
  {
   "cell_type": "markdown",
   "metadata": {},
   "source": [
    "## Defining and training the densely connected classifier"
   ]
  },
  {
   "cell_type": "code",
   "execution_count": 16,
   "metadata": {},
   "outputs": [],
   "source": [
    "from keras import models\n",
    "from keras import layers\n",
    "from keras import optimizers\n",
    "\n",
    "model = models.Sequential()\n",
    "model.add(layers.Dense(256, activation='relu', input_dim=4 * 4 * 512))\n",
    "model.add(layers.Dropout(0.5))\n",
    "model.add(layers.Dense(1, activation='sigmoid'))\n",
    "\n",
    "model.compile(optimizer=optimizers.RMSprop(lr=2e-5),\n",
    "             loss='binary_crossentropy',\n",
    "             metrics=['acc'])\n"
   ]
  },
  {
   "cell_type": "code",
   "execution_count": 17,
   "metadata": {},
   "outputs": [
    {
     "name": "stdout",
     "output_type": "stream",
     "text": [
      "Train on 2000 samples, validate on 1000 samples\n",
      "Epoch 1/30\n",
      "2000/2000 [==============================] - 1s 414us/step - loss: 0.6978 - acc: 0.9940 - val_loss: 0.6901 - val_acc: 0.9880\n",
      "Epoch 2/30\n",
      "2000/2000 [==============================] - 0s 242us/step - loss: 0.6851 - acc: 0.9975 - val_loss: 0.6818 - val_acc: 0.9910\n",
      "Epoch 3/30\n",
      "2000/2000 [==============================] - 0s 232us/step - loss: 0.6767 - acc: 0.9960 - val_loss: 0.6746 - val_acc: 0.9940\n",
      "Epoch 4/30\n",
      "2000/2000 [==============================] - 0s 229us/step - loss: 0.6693 - acc: 0.9965 - val_loss: 0.6679 - val_acc: 0.9920\n",
      "Epoch 5/30\n",
      "2000/2000 [==============================] - 0s 233us/step - loss: 0.6596 - acc: 0.9975 - val_loss: 0.6599 - val_acc: 0.9940\n",
      "Epoch 6/30\n",
      "2000/2000 [==============================] - 0s 243us/step - loss: 0.6514 - acc: 0.9990 - val_loss: 0.6538 - val_acc: 0.9910\n",
      "Epoch 7/30\n",
      "2000/2000 [==============================] - 0s 237us/step - loss: 0.6423 - acc: 0.9995 - val_loss: 0.6458 - val_acc: 0.9910\n",
      "Epoch 8/30\n",
      "2000/2000 [==============================] - 0s 239us/step - loss: 0.6348 - acc: 0.9980 - val_loss: 0.6357 - val_acc: 0.9940\n",
      "Epoch 9/30\n",
      "2000/2000 [==============================] - 0s 238us/step - loss: 0.6256 - acc: 0.9990 - val_loss: 0.6287 - val_acc: 0.9920\n",
      "Epoch 10/30\n",
      "2000/2000 [==============================] - 0s 250us/step - loss: 0.6161 - acc: 0.9995 - val_loss: 0.6196 - val_acc: 0.9940\n",
      "Epoch 11/30\n",
      "2000/2000 [==============================] - 0s 246us/step - loss: 0.6067 - acc: 0.9990 - val_loss: 0.6111 - val_acc: 0.9940\n",
      "Epoch 12/30\n",
      "2000/2000 [==============================] - 0s 247us/step - loss: 0.5979 - acc: 1.0000 - val_loss: 0.6013 - val_acc: 0.9940\n",
      "Epoch 13/30\n",
      "2000/2000 [==============================] - 0s 243us/step - loss: 0.5890 - acc: 0.9995 - val_loss: 0.5946 - val_acc: 0.9930\n",
      "Epoch 14/30\n",
      "2000/2000 [==============================] - 0s 236us/step - loss: 0.5788 - acc: 0.9990 - val_loss: 0.5854 - val_acc: 0.9940\n",
      "Epoch 15/30\n",
      "2000/2000 [==============================] - 0s 240us/step - loss: 0.5698 - acc: 0.9995 - val_loss: 0.5747 - val_acc: 0.9940\n",
      "Epoch 16/30\n",
      "2000/2000 [==============================] - 1s 252us/step - loss: 0.5594 - acc: 0.9995 - val_loss: 0.5650 - val_acc: 0.9940\n",
      "Epoch 17/30\n",
      "2000/2000 [==============================] - 0s 245us/step - loss: 0.5492 - acc: 0.9995 - val_loss: 0.5556 - val_acc: 0.9950\n",
      "Epoch 18/30\n",
      "2000/2000 [==============================] - 0s 244us/step - loss: 0.5391 - acc: 1.0000 - val_loss: 0.5455 - val_acc: 0.9950\n",
      "Epoch 19/30\n",
      "2000/2000 [==============================] - 0s 241us/step - loss: 0.5284 - acc: 1.0000 - val_loss: 0.5337 - val_acc: 0.9950\n",
      "Epoch 20/30\n",
      "2000/2000 [==============================] - 0s 241us/step - loss: 0.5177 - acc: 1.0000 - val_loss: 0.5259 - val_acc: 0.9950\n",
      "Epoch 21/30\n",
      "2000/2000 [==============================] - 0s 242us/step - loss: 0.5075 - acc: 1.0000 - val_loss: 0.5139 - val_acc: 0.9950\n",
      "Epoch 22/30\n",
      "2000/2000 [==============================] - 0s 239us/step - loss: 0.4973 - acc: 1.0000 - val_loss: 0.5026 - val_acc: 0.9950\n",
      "Epoch 23/30\n",
      "2000/2000 [==============================] - 0s 246us/step - loss: 0.4872 - acc: 0.9995 - val_loss: 0.4953 - val_acc: 0.9950\n",
      "Epoch 24/30\n",
      "2000/2000 [==============================] - 0s 235us/step - loss: 0.4757 - acc: 0.9995 - val_loss: 0.4836 - val_acc: 0.9950\n",
      "Epoch 25/30\n",
      "2000/2000 [==============================] - 0s 249us/step - loss: 0.4648 - acc: 1.0000 - val_loss: 0.4734 - val_acc: 0.9950\n",
      "Epoch 26/30\n",
      "2000/2000 [==============================] - 0s 242us/step - loss: 0.4537 - acc: 1.0000 - val_loss: 0.4631 - val_acc: 0.9950\n",
      "Epoch 27/30\n",
      "2000/2000 [==============================] - 0s 245us/step - loss: 0.4437 - acc: 0.9995 - val_loss: 0.4536 - val_acc: 0.9950\n",
      "Epoch 28/30\n",
      "2000/2000 [==============================] - 0s 242us/step - loss: 0.4318 - acc: 1.0000 - val_loss: 0.4424 - val_acc: 0.9950\n",
      "Epoch 29/30\n",
      "2000/2000 [==============================] - 1s 251us/step - loss: 0.4205 - acc: 1.0000 - val_loss: 0.4345 - val_acc: 0.9950\n",
      "Epoch 30/30\n",
      "2000/2000 [==============================] - 0s 242us/step - loss: 0.4098 - acc: 1.0000 - val_loss: 0.4234 - val_acc: 0.9950\n"
     ]
    }
   ],
   "source": [
    "history = model.fit(train_features, train_labels,\n",
    "                   epochs=30,\n",
    "                   batch_size=20,\n",
    "                   validation_data=(validation_features, validation_labels))"
   ]
  },
  {
   "cell_type": "markdown",
   "metadata": {},
   "source": [
    "## Plotting the results"
   ]
  },
  {
   "cell_type": "code",
   "execution_count": 19,
   "metadata": {},
   "outputs": [
    {
     "data": {
      "image/png": "[encoded data removed]",
      "text/plain": [
       "<Figure size 432x288 with 1 Axes>"
      ]
     },
     "metadata": {},
     "output_type": "display_data"
    },
    {
     "data": {
      "image/png": "[encoded data removed]",
      "text/plain": [
       "<Figure size 432x288 with 1 Axes>"
      ]
     },
     "metadata": {},
     "output_type": "display_data"
    }
   ],
   "source": [
    "import matplotlib.pyplot as plt\n",
    "\n",
    "acc = history.history['acc']\n",
    "val_acc = history.history['val_acc']\n",
    "loss = history.history['loss']\n",
    "val_loss = history.history['val_loss']\n",
    "\n",
    "epochs = range(1, len(acc) + 1)\n",
    "\n",
    "plt.plot(epochs, acc, 'bo', label='Training acc')\n",
    "plt.plot(epochs, val_acc, 'b', label='Validation acc')\n",
    "plt.title('Training and validation accuracy')\n",
    "plt.legend()\n",
    "\n",
    "plt.figure()\n",
    "\n",
    "plt.plot(epochs, loss, 'bo', label='Training loss')\n",
    "plt.plot(epochs, val_loss, 'b', label='Validation loss')\n",
    "plt.title('Training and validation loss')\n",
    "plt.legend()\n",
    "\n",
    "plt.show()\n"
   ]
  },
  {
   "cell_type": "code",
   "execution_count": null,
   "metadata": {},
   "outputs": [],
   "source": []
  }
 ],
 "metadata": {
  "kernelspec": {
   "display_name": "Python 3",
   "language": "python",
   "name": "python3"
  },
  "language_info": {
   "codemirror_mode": {
    "name": "ipython",
    "version": 3
   },
   "file_extension": ".py",
   "mimetype": "text/x-python",
   "name": "python",
   "nbconvert_exporter": "python",
   "pygments_lexer": "ipython3",
   "version": "3.6.5"
  }
 },
 "nbformat": 4,
 "nbformat_minor": 2
}
