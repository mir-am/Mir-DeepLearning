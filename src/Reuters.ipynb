{
 "cells": [
  {
   "cell_type": "markdown",
   "metadata": {},
   "source": [
    "## Classification of Movie Reviews - IMDB dataset"
   ]
  },
  {
   "cell_type": "markdown",
   "metadata": {},
   "source": [
    "First, we load news dataset from Keras package. It's Reuters dataset which consists of 46 topics"
   ]
  },
  {
   "cell_type": "code",
   "execution_count": 1,
   "metadata": {},
   "outputs": [
    {
     "name": "stderr",
     "output_type": "stream",
     "text": [
      "Using TensorFlow backend.\n"
     ]
    }
   ],
   "source": [
    "from keras.datasets import reuters\n",
    "\n",
    "# Select only the top 10,000 most frequent words\n",
    "(train_data, train_lables), (test_data, test_lables) = reuters.load_data(num_words=10000)"
   ]
  },
  {
   "cell_type": "markdown",
   "metadata": {},
   "source": [
    "Encoding the integer sequences into a binary matrix for the first layer of neural network"
   ]
  },
  {
   "cell_type": "code",
   "execution_count": 2,
   "metadata": {},
   "outputs": [
    {
     "data": {
      "text/plain": [
       "array([0., 1., 1., ..., 0., 0., 0.])"
      ]
     },
     "execution_count": 2,
     "metadata": {},
     "output_type": "execute_result"
    }
   ],
   "source": [
    "import numpy as np\n",
    "\n",
    "def vectorize_sequence(sequence, dimension=10000):\n",
    "    \n",
    "    results = np.zeros((len(sequence), dimension))\n",
    "    \n",
    "    for i , sequence in enumerate(sequence):\n",
    "        \n",
    "        results[i, sequence] = 1\n",
    "        \n",
    "    return results\n",
    "\n",
    "x_train = vectorize_sequence(train_data)\n",
    "x_test = vectorize_sequence(test_data)\n",
    "\n",
    "# Shape of dataset\n",
    "x_train.shape\n",
    "\n",
    "# A sample of dataset looks like this\n",
    "x_train[0]"
   ]
  },
  {
   "cell_type": "markdown",
   "metadata": {},
   "source": [
    "One hot-encoding for categorical data"
   ]
  },
  {
   "cell_type": "code",
   "execution_count": 3,
   "metadata": {},
   "outputs": [
    {
     "data": {
      "text/plain": [
       "array([[0., 0., 0., ..., 0., 0., 0.],\n",
       "       [0., 0., 0., ..., 0., 0., 0.],\n",
       "       [0., 0., 0., ..., 0., 0., 0.],\n",
       "       ...,\n",
       "       [0., 0., 0., ..., 0., 0., 0.],\n",
       "       [0., 0., 0., ..., 0., 0., 0.],\n",
       "       [0., 0., 0., ..., 0., 0., 0.]], dtype=float32)"
      ]
     },
     "execution_count": 3,
     "metadata": {},
     "output_type": "execute_result"
    }
   ],
   "source": [
    "from keras.utils.np_utils import to_categorical\n",
    "\n",
    "one_hot_train_labels = to_categorical(train_lables)\n",
    "one_hot_test_labels = to_categorical(test_lables)\n",
    "\n",
    "one_hot_train_labels"
   ]
  },
  {
   "cell_type": "markdown",
   "metadata": {},
   "source": [
    "Parameters of Neural Network. To improve accuracy of the model, its parameter should be tuned."
   ]
  },
  {
   "cell_type": "code",
   "execution_count": 4,
   "metadata": {},
   "outputs": [],
   "source": [
    "num_hidden_units = 128\n",
    "hidden_layer_act_func = 'relu'\n",
    "output_layer_act_func = 'softmax'\n",
    "optimizer = 'rmsprop'\n",
    "loss_func = 'categorical_crossentropy'\n",
    "epochs = 10\n",
    "batch_size = 512"
   ]
  },
  {
   "cell_type": "markdown",
   "metadata": {},
   "source": [
    "A three-layer network. It should be noted that number of hidden units is 64 units to prevent dropping relevant infomation."
   ]
  },
  {
   "cell_type": "code",
   "execution_count": 5,
   "metadata": {},
   "outputs": [],
   "source": [
    "from keras import models\n",
    "from keras import layers\n",
    "\n",
    "model = models.Sequential()\n",
    "model.add(layers.Dense(num_hidden_units, activation=hidden_layer_act_func, input_shape=(10000,)))\n",
    "model.add(layers.Dense(num_hidden_units, activation=hidden_layer_act_func))\n",
    "model.add(layers.Dense(num_hidden_units, activation=hidden_layer_act_func))\n",
    "model.add(layers.Dense(46, activation=output_layer_act_func))"
   ]
  },
  {
   "cell_type": "markdown",
   "metadata": {},
   "source": [
    "After the model was created, you need to determine opitimizer and loss function."
   ]
  },
  {
   "cell_type": "code",
   "execution_count": 6,
   "metadata": {},
   "outputs": [],
   "source": [
    "model.compile(optimizer=optimizer, loss=loss_func, metrics=['accuracy'])"
   ]
  },
  {
   "cell_type": "markdown",
   "metadata": {},
   "source": [
    "A validation set is created to monitor the accuracy of the model on data it has never seen before."
   ]
  },
  {
   "cell_type": "code",
   "execution_count": 7,
   "metadata": {},
   "outputs": [],
   "source": [
    "x_val = x_train[:1000]\n",
    "y_val = one_hot_train_labels[:1000]\n",
    "partial_x_train = x_train[1000:]\n",
    "partial_y_train = one_hot_train_labels[1000:]"
   ]
  },
  {
   "cell_type": "markdown",
   "metadata": {},
   "source": [
    "Now, it's time to train the model."
   ]
  },
  {
   "cell_type": "code",
   "execution_count": 8,
   "metadata": {
    "scrolled": true
   },
   "outputs": [
    {
     "name": "stdout",
     "output_type": "stream",
     "text": [
      "Train on 7982 samples, validate on 1000 samples\n",
      "Epoch 1/10\n",
      "7982/7982 [==============================] - 1s 141us/step - loss: 2.2032 - acc: 0.5336 - val_loss: 1.4192 - val_acc: 0.6740\n",
      "Epoch 2/10\n",
      "7982/7982 [==============================] - 0s 61us/step - loss: 1.2132 - acc: 0.7254 - val_loss: 1.1890 - val_acc: 0.7270\n",
      "Epoch 3/10\n",
      "7982/7982 [==============================] - 0s 60us/step - loss: 0.8781 - acc: 0.8072 - val_loss: 1.0661 - val_acc: 0.7610\n",
      "Epoch 4/10\n",
      "7982/7982 [==============================] - 0s 61us/step - loss: 0.6789 - acc: 0.8425 - val_loss: 0.9686 - val_acc: 0.7890\n",
      "Epoch 5/10\n",
      "7982/7982 [==============================] - 0s 61us/step - loss: 0.4764 - acc: 0.8961 - val_loss: 0.9749 - val_acc: 0.7930\n",
      "Epoch 6/10\n",
      "7982/7982 [==============================] - 0s 60us/step - loss: 0.3833 - acc: 0.9133 - val_loss: 0.9186 - val_acc: 0.8150\n",
      "Epoch 7/10\n",
      "7982/7982 [==============================] - 0s 60us/step - loss: 0.2800 - acc: 0.9357 - val_loss: 1.0181 - val_acc: 0.7920\n",
      "Epoch 8/10\n",
      "7982/7982 [==============================] - 0s 60us/step - loss: 0.2359 - acc: 0.9439 - val_loss: 0.9827 - val_acc: 0.7940\n",
      "Epoch 9/10\n",
      "7982/7982 [==============================] - 0s 60us/step - loss: 0.1848 - acc: 0.9498 - val_loss: 1.2661 - val_acc: 0.7460\n",
      "Epoch 10/10\n",
      "7982/7982 [==============================] - 0s 60us/step - loss: 0.1751 - acc: 0.9504 - val_loss: 0.9957 - val_acc: 0.8100\n"
     ]
    }
   ],
   "source": [
    "history = model.fit(partial_x_train, partial_y_train, epochs=epochs, batch_size=batch_size, validation_data=(x_val, y_val))"
   ]
  },
  {
   "cell_type": "markdown",
   "metadata": {},
   "source": [
    "Let's plot training and validation loss using Matplotlib package"
   ]
  },
  {
   "cell_type": "code",
   "execution_count": 9,
   "metadata": {},
   "outputs": [
    {
     "data": {
      "text/plain": [
       "<Figure size 640x480 with 1 Axes>"
      ]
     },
     "metadata": {},
     "output_type": "display_data"
    }
   ],
   "source": [
    "import matplotlib.pyplot as plt\n",
    "\n",
    "history_dict = history.history\n",
    "loss_values = history_dict['loss'] # Training loss\n",
    "val_loss_values = history_dict['val_loss'] # Validation loss\n",
    "\n",
    "epochs = range(1, len(history_dict['acc']) + 1)\n",
    "\n",
    "plt.plot(epochs, loss_values, 'bo', label='Training loss')\n",
    "plt.plot(epochs, val_loss_values, 'b', label='Validation loss')\n",
    "plt.title('Training and validation loss')\n",
    "plt.xlabel('Epochs')\n",
    "plt.ylabel('Loss')\n",
    "plt.legend()\n",
    "\n",
    "plt.show()"
   ]
  },
  {
   "cell_type": "markdown",
   "metadata": {},
   "source": [
    "Plotting the training and validation accurcy"
   ]
  },
  {
   "cell_type": "code",
   "execution_count": 10,
   "metadata": {},
   "outputs": [
    {
     "data": {
      "image/png": "[encoded data removed]",
      "text/plain": [
       "<Figure size 432x288 with 1 Axes>"
      ]
     },
     "metadata": {},
     "output_type": "display_data"
    }
   ],
   "source": [
    "plt.clf # Clear previous fig\n",
    "acc_values = history_dict['acc']\n",
    "val_acc_values = history_dict['val_acc']\n",
    "\n",
    "plt.plot(epochs, acc_values, 'bo', label='Training accuracy')\n",
    "plt.plot(epochs, val_acc_values, 'b', label='Validation acc')\n",
    "plt.title('Training and validation accuracy')\n",
    "plt.xlabel('Epochs')\n",
    "plt.ylabel('Loss')\n",
    "plt.legend()\n",
    "\n",
    "plt.show()"
   ]
  },
  {
   "cell_type": "markdown",
   "metadata": {},
   "source": [
    "Evaluate model"
   ]
  },
  {
   "cell_type": "code",
   "execution_count": 11,
   "metadata": {},
   "outputs": [
    {
     "name": "stdout",
     "output_type": "stream",
     "text": [
      "2246/2246 [==============================] - 0s 64us/step\n"
     ]
    },
    {
     "data": {
      "text/plain": [
       "[1.0983259726717125, 0.7876224399462196]"
      ]
     },
     "execution_count": 11,
     "metadata": {},
     "output_type": "execute_result"
    }
   ],
   "source": [
    "results = model.evaluate(x_test, one_hot_test_labels)\n",
    "results"
   ]
  },
  {
   "cell_type": "markdown",
   "metadata": {},
   "source": [
    "Predictions on new data (test data). Probability over 46 topics."
   ]
  },
  {
   "cell_type": "code",
   "execution_count": 12,
   "metadata": {},
   "outputs": [
    {
     "data": {
      "text/plain": [
       "array([[4.99678026e-06, 4.67748896e-06, 2.41081022e-09, ...,\n",
       "        2.56334914e-07, 8.55840696e-08, 1.46446393e-08],\n",
       "       [2.77487934e-03, 1.26268312e-01, 3.49568538e-02, ...,\n",
       "        9.49214882e-06, 3.42367170e-03, 1.80671035e-04],\n",
       "       [6.51767594e-04, 7.34893560e-01, 1.68594043e-03, ...,\n",
       "        7.35469075e-05, 1.55577247e-04, 4.69022962e-05],\n",
       "       ...,\n",
       "       [4.56698672e-07, 5.72134331e-06, 3.93553250e-07, ...,\n",
       "        1.91794402e-06, 7.37792405e-08, 3.57331515e-08],\n",
       "       [2.73333309e-04, 1.11528605e-01, 1.31931494e-03, ...,\n",
       "        2.43153702e-03, 3.79625126e-04, 8.51615041e-05],\n",
       "       [7.17994089e-06, 8.37083161e-01, 4.92893765e-03, ...,\n",
       "        2.21660594e-06, 6.66408005e-06, 1.02995864e-06]], dtype=float32)"
      ]
     },
     "execution_count": 12,
     "metadata": {},
     "output_type": "execute_result"
    }
   ],
   "source": [
    "model.predict(x_test)"
   ]
  },
  {
   "cell_type": "code",
   "execution_count": null,
   "metadata": {},
   "outputs": [],
   "source": []
  }
 ],
 "metadata": {
  "kernelspec": {
   "display_name": "Python 3",
   "language": "python",
   "name": "python3"
  },
  "language_info": {
   "codemirror_mode": {
    "name": "ipython",
    "version": 3
   },
   "file_extension": ".py",
   "mimetype": "text/x-python",
   "name": "python",
   "nbconvert_exporter": "python",
   "pygments_lexer": "ipython3",
   "version": "3.6.5"
  }
 },
 "nbformat": 4,
 "nbformat_minor": 2
}
